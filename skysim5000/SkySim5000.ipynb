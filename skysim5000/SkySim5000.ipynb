{
 "cells": [
  {
   "cell_type": "code",
   "execution_count": 25,
   "id": "14d76b1b-31e2-4d2b-b7f5-01c3749c2644",
   "metadata": {},
   "outputs": [],
   "source": [
    "import glob,os\n",
    "import math\n",
    "import astropy\n",
    "import healpy as hp\n",
    "import numpy as np\n",
    "import pandas as pd\n",
    "import pickle as pkl\n",
    "\n",
    "\n",
    "import GCRCatalogs as gcr\n",
    "from astropy.table import Table\n",
    "from astropy.coordinates import SkyCoord\n",
    "from astropy.cosmology import FlatLambdaCDM\n",
    "from multiprocessing import Pool, cpu_count\n",
    "\n",
    "import matplotlib.pyplot as plt\n",
    "%matplotlib inline\n",
    "import warnings\n",
    "warnings.filterwarnings('ignore')\n",
    "\n",
    "c = 3e5\n",
    "G = 4.302e-9\n",
    "h = 0.71\n",
    "\n",
    "file_path = r\"/global/u1/k/kamau/SE-CLMM-LSSTDESC/project-1/Data/\""
   ]
  },
  {
   "cell_type": "markdown",
   "id": "2635d6ad-a530-4022-8f7d-8533eda2b458",
   "metadata": {
    "jp-MarkdownHeadingCollapsed": true,
    "tags": []
   },
   "source": [
    "# CosmoDC2"
   ]
  },
  {
   "cell_type": "code",
   "execution_count": 2,
   "id": "d1a59bfd-8052-40e8-9310-cb247d427c3f",
   "metadata": {},
   "outputs": [],
   "source": [
    "cosmodc2 = gcr.load_catalog('cosmoDC2_v1.1.4')\n",
    "# cosmodc2.get_catalog_info()\n",
    "gcosmology = cosmodc2.cosmology \n",
    "cosmo = FlatLambdaCDM(H0=gcosmology.H0.value, Om0= gcosmology.Om0)"
   ]
  },
  {
   "cell_type": "code",
   "execution_count": 3,
   "id": "5077b3b5-3477-47ee-9777-4cdecc1ab4bd",
   "metadata": {},
   "outputs": [],
   "source": [
    "cosmo_quantities = cosmodc2.list_all_quantities(include_native=True)"
   ]
  },
  {
   "cell_type": "code",
   "execution_count": 52,
   "id": "6dca41a0-d74f-40e4-8925-440c655c3329",
   "metadata": {},
   "outputs": [
    {
     "name": "stdout",
     "output_type": "stream",
     "text": [
      "['stellar_mass', 'halo_mass', 'stellar_mass_disk', 'stellar_mass_bulge', 'baseDC2/target_halo_mass'] 5\n"
     ]
    }
   ],
   "source": [
    "cl_quantities = [q for q in cosmo_quantities if 'mass' in q]\n",
    "print(cl_quantities, len(cl_quantities))"
   ]
  },
  {
   "cell_type": "markdown",
   "id": "0d6f1ce6-61af-4e18-a460-f186843e0c0b",
   "metadata": {},
   "source": [
    "### 0.2 $\\le$ Z $<$ 0.35, Mass $\\ge 1e13$"
   ]
  },
  {
   "cell_type": "code",
   "execution_count": 8,
   "id": "9cdfebc3-e390-47c0-aac1-ca0bc34b1b9f",
   "metadata": {},
   "outputs": [
    {
     "data": {
      "text/plain": [
       "13929"
      ]
     },
     "execution_count": 8,
     "metadata": {},
     "output_type": "execute_result"
    }
   ],
   "source": [
    "# get list of halos in a given redshift and mass range \n",
    "# mmin_extract = 1.e13 # Msun (M_fof)\n",
    "# zmin_extract = 0.2\n",
    "# zmax_extract = 0.35\n",
    "\n",
    "# cosmo_halos = Table(cosmodc2.get_quantities(['halo_mass','hostHaloMass','redshift','ra', 'dec', 'halo_id'],\n",
    "#                                             filters=[f'halo_mass > {mmin_extract}','is_central==True',\n",
    "#                                             f'redshift>{zmin_extract}', f'redshift<{zmax_extract}']))\n",
    "# len(cosmo_halos)"
   ]
  },
  {
   "cell_type": "markdown",
   "id": "b2a794ea-2916-41c2-b89b-00b592d0ab39",
   "metadata": {
    "tags": []
   },
   "source": [
    "# Skysim5000"
   ]
  },
  {
   "cell_type": "code",
   "execution_count": 2,
   "id": "a97d6ebe-d905-47f5-ab14-f0f838298667",
   "metadata": {},
   "outputs": [],
   "source": [
    "skysim = gcr.load_catalog('skysim5000_v1.1.1')"
   ]
  },
  {
   "cell_type": "code",
   "execution_count": 7,
   "id": "7c8b0915-9ffa-4736-af65-df36c3775109",
   "metadata": {},
   "outputs": [],
   "source": [
    "quantities = skysim.list_all_quantities()"
   ]
  },
  {
   "cell_type": "code",
   "execution_count": 4,
   "id": "676ca0eb-7297-497c-aaa4-6b3569006754",
   "metadata": {},
   "outputs": [
    {
     "name": "stdout",
     "output_type": "stream",
     "text": [
      "['baseDC2/target_halo_mass', 'stellar_mass', 'halo_mass', 'stellar_mass_disk', 'baseDC2/sod_halo_mass', 'stellar_mass_bulge'] 6\n"
     ]
    }
   ],
   "source": [
    "sky_quantities = [q for q in quantities if 'mass' in q]\n",
    "print(sky_quantities, len(sky_quantities))"
   ]
  },
  {
   "cell_type": "code",
   "execution_count": 14,
   "id": "6dd46dd4-b5dc-4f93-b00f-d66af87df98b",
   "metadata": {
    "tags": []
   },
   "outputs": [],
   "source": [
    "# # get list of halos in a given redshift and mass range \n",
    "# mmin_extract = 1e13 # Msun (M_fof)\n",
    "# zmin_extract = 0.2\n",
    "# zmax_extract = 1\n",
    "\n",
    "# sky_halos = Table(skysim.get_quantities(['halo_mass','hostHaloMass','redshift','ra', 'dec', 'halo_id',\n",
    "#                                              'baseDC2/sod_halo_mass','baseDC2/sod_halo_radius'],\n",
    "#                                             filters=[f'halo_mass > {mmin_extract}','is_central==True',\n",
    "#                                             f'redshift>{zmin_extract}', f'redshift<{zmax_extract}'],\n",
    "#                                                    native_filters=[f'baseDC2/sod_halo_mass>{mmin_extract}']))\n",
    "# len(sky_halos)"
   ]
  },
  {
   "cell_type": "code",
   "execution_count": 27,
   "id": "ed15102c-7345-4177-b5a8-13cf2cb140df",
   "metadata": {
    "tags": []
   },
   "outputs": [
    {
     "name": "stdout",
     "output_type": "stream",
     "text": [
      "9132204\n"
     ]
    },
    {
     "data": {
      "text/html": [
       "<i>Table length=3</i>\n",
       "<table id=\"table140540794311728\" class=\"table-striped table-bordered table-condensed\">\n",
       "<thead><tr><th>halo_id</th><th>baseDC2/sod_halo_mass</th><th>halo_mass</th><th>ra</th><th>dec</th><th>redshift</th><th>baseDC2/sod_halo_radius</th><th>pixel_id</th></tr></thead>\n",
       "<thead><tr><th>int64</th><th>float64</th><th>float64</th><th>float64</th><th>float64</th><th>float64</th><th>float64</th><th>int64</th></tr></thead>\n",
       "<tr><td>8010048272</td><td>3930589757440.0</td><td>5431825272428.169</td><td>0.31754392917391355</td><td>-39.4963737486451</td><td>0.8169700979435011</td><td>0.35036420822143555</td><td>10048</td></tr>\n",
       "<tr><td>24410048272</td><td>2749749788672.0</td><td>4029018515830.9863</td><td>0.0074959202036243774</td><td>-39.65789247529022</td><td>0.8057319933823652</td><td>0.3111702501773834</td><td>10048</td></tr>\n",
       "<tr><td>27410048272</td><td>4839781171200.0</td><td>6223022385757.747</td><td>0.37311149291982026</td><td>-41.06810288835421</td><td>0.8123907496935472</td><td>0.37490302324295044</td><td>10048</td></tr>\n",
       "</table>"
      ],
      "text/plain": [
       "<Table length=3>\n",
       "  halo_id   baseDC2/sod_halo_mass ... baseDC2/sod_halo_radius pixel_id\n",
       "   int64           float64        ...         float64          int64  \n",
       "----------- --------------------- ... ----------------------- --------\n",
       " 8010048272       3930589757440.0 ...     0.35036420822143555    10048\n",
       "24410048272       2749749788672.0 ...      0.3111702501773834    10048\n",
       "27410048272       4839781171200.0 ...     0.37490302324295044    10048"
      ]
     },
     "execution_count": 27,
     "metadata": {},
     "output_type": "execute_result"
    }
   ],
   "source": [
    "### Extracted the catalog with a filter on the SOD mass\n",
    "sky_halos_SOD = Table.read(file_path+\"halos/Skysim_SOD_Filter/skysim_0.2-1_1.1.1_SOD.dat\", format='ascii')\n",
    "print(len(sky_halos_1_1_1))\n",
    "sky_halos_1_1_1[:3]"
   ]
  },
  {
   "cell_type": "code",
   "execution_count": 28,
   "id": "d4426951-6f14-4a75-96e0-ce69651afc79",
   "metadata": {
    "tags": []
   },
   "outputs": [
    {
     "data": {
      "text/plain": [
       "(0.20000024465733568, 0.999999913568445, '2.160281e+11', '1.851646e+12')"
      ]
     },
     "execution_count": 28,
     "metadata": {},
     "output_type": "execute_result"
    }
   ],
   "source": [
    "sky_halos_SOD['redshift'].min(), sky_halos_SOD['redshift'].max(), \"{:e}\".format(sky_halos_SOD['halo_mass'].min()), \"{:e}\".format(sky_halos_SOD['baseDC2/sod_halo_mass'].min())"
   ]
  },
  {
   "cell_type": "code",
   "execution_count": 35,
   "id": "0471e96a-e763-4fe0-8625-7aa4648240a7",
   "metadata": {
    "tags": []
   },
   "outputs": [
    {
     "data": {
      "text/plain": [
       "(2149934, 1280689)"
      ]
     },
     "execution_count": 35,
     "metadata": {},
     "output_type": "execute_result"
    }
   ],
   "source": [
    "sum(sky_halos_SOD['halo_mass']>=1e13), sum(sky_halos_SOD['baseDC2/sod_halo_mass']>=1e13)"
   ]
  },
  {
   "cell_type": "code",
   "execution_count": null,
   "id": "ebacbd22-3397-47ae-96a9-c9f889d1c25f",
   "metadata": {},
   "outputs": [],
   "source": []
  },
  {
   "cell_type": "code",
   "execution_count": 3,
   "id": "75ed77c3-29ed-4383-a771-7e34be900d41",
   "metadata": {
    "tags": []
   },
   "outputs": [
    {
     "name": "stdout",
     "output_type": "stream",
     "text": [
      "2152757\n"
     ]
    },
    {
     "data": {
      "text/html": [
       "<i>Table length=5</i>\n",
       "<table id=\"table140300270745584\" class=\"table-striped table-bordered table-condensed\">\n",
       "<thead><tr><th>baseDC2/sod_halo_mass</th><th>baseDC2/sod_halo_radius</th><th>redshift</th><th>dec</th><th>magnification</th><th>hostHaloMass</th><th>ra</th><th>halo_id</th><th>halo_mass</th><th>pixel_id</th></tr></thead>\n",
       "<thead><tr><th>float64</th><th>float64</th><th>float64</th><th>float64</th><th>float64</th><th>float64</th><th>float64</th><th>int64</th><th>float64</th><th>int64</th></tr></thead>\n",
       "<tr><td>26579065372672.0</td><td>0.5446251034736633</td><td>0.20139660562430461</td><td>-40.04846723879825</td><td>0.9979623519401493</td><td>29968075587584.0</td><td>0.7221434040834472</td><td>21510048411</td><td>42208557165611.27</td><td>10048</td></tr>\n",
       "<tr><td>12196470849536.0</td><td>0.42025429010391235</td><td>0.20235857998513196</td><td>-39.682839702198365</td><td>0.997030957534533</td><td>13286176194560.0</td><td>0.6680873385457778</td><td>25010048411</td><td>18712924217690.14</td><td>10048</td></tr>\n",
       "<tr><td>37273152258048.0</td><td>0.6095867156982422</td><td>0.20127788911557642</td><td>-41.67162639435926</td><td>0.9972005247310122</td><td>48268515999744.0</td><td>0.013164711073756979</td><td>25410048411</td><td>67983825351752.12</td><td>10048</td></tr>\n",
       "<tr><td>9766415892480.0</td><td>0.39577725529670715</td><td>0.22696239718685396</td><td>-39.57973265852448</td><td>0.9976410185064334</td><td>10810404372480.0</td><td>0.529586827746835</td><td>5910048401</td><td>15225921651380.283</td><td>10048</td></tr>\n",
       "<tr><td>7643121319936.0</td><td>0.3648497760295868</td><td>0.23680849836272055</td><td>-39.88970382971425</td><td>0.9963994121737512</td><td>7977815769088.0</td><td>0.3147674614075478</td><td>10510048401</td><td>11236360238152.113</td><td>10048</td></tr>\n",
       "</table>"
      ],
      "text/plain": [
       "<Table length=5>\n",
       "baseDC2/sod_halo_mass baseDC2/sod_halo_radius ...     halo_mass      pixel_id\n",
       "       float64                float64         ...      float64        int64  \n",
       "--------------------- ----------------------- ... ------------------ --------\n",
       "     26579065372672.0      0.5446251034736633 ...  42208557165611.27    10048\n",
       "     12196470849536.0     0.42025429010391235 ...  18712924217690.14    10048\n",
       "     37273152258048.0      0.6095867156982422 ...  67983825351752.12    10048\n",
       "      9766415892480.0     0.39577725529670715 ... 15225921651380.283    10048\n",
       "      7643121319936.0      0.3648497760295868 ... 11236360238152.113    10048"
      ]
     },
     "execution_count": 3,
     "metadata": {},
     "output_type": "execute_result"
    }
   ],
   "source": [
    "### Extracted the catalog with a filter on the halo mass (FoF)\n",
    "sky_halos_1_2 = Table.read(file_path+\"halos/skysim_0.2-1-2152757.dat\", format='ascii')\n",
    "print(len(sky_halos_1_2))\n",
    "sky_halos_1_2[:5]"
   ]
  },
  {
   "cell_type": "code",
   "execution_count": 23,
   "id": "eef5d00c-594e-4296-8a1d-2e54058943d7",
   "metadata": {
    "tags": []
   },
   "outputs": [
    {
     "data": {
      "text/plain": [
       "(0.20000205476847288, 0.999999913568445, '1.000255e+13', '-1.000000e+00')"
      ]
     },
     "execution_count": 23,
     "metadata": {},
     "output_type": "execute_result"
    }
   ],
   "source": [
    "sky_halos_1_2['redshift'].min(), sky_halos_1_2['redshift'].max(), \"{:e}\".format(sky_halos_1_2['halo_mass'].min()), \"{:e}\".format(sky_halos_1_2['baseDC2/sod_halo_mass'].min())"
   ]
  },
  {
   "cell_type": "code",
   "execution_count": 36,
   "id": "05b5df73-94ce-424c-83a6-6d57255d98d7",
   "metadata": {
    "tags": []
   },
   "outputs": [
    {
     "data": {
      "text/plain": [
       "(2152757, 1280689)"
      ]
     },
     "execution_count": 36,
     "metadata": {},
     "output_type": "execute_result"
    }
   ],
   "source": [
    "sum(sky_halos_1_2['halo_mass']>=1e13), sum(sky_halos_1_2['baseDC2/sod_halo_mass']>=1e13)"
   ]
  },
  {
   "cell_type": "code",
   "execution_count": null,
   "id": "59d038e8-96ae-438c-9389-b0a1ee5148da",
   "metadata": {},
   "outputs": [],
   "source": [
    "%%time\n",
    "skycosmology = skysim.cosmology\n",
    "skycosmology.H0 ,skycosmology.Om0, skycosmology.Ob0, skycosmology.Ob0, skycosmology.h, skycosmology.Neff"
   ]
  },
  {
   "cell_type": "code",
   "execution_count": 52,
   "id": "7fccf73d-b34a-4e0d-93f4-fc816008ee3d",
   "metadata": {
    "tags": []
   },
   "outputs": [
    {
     "name": "stdout",
     "output_type": "stream",
     "text": [
      "578.5422387562342\n",
      "481.5582878598534\n",
      "578.5422387562394\n",
      "481.5580766982444\n",
      "578.5422387562394\n",
      "481.5580766982444\n"
     ]
    }
   ],
   "source": [
    "#### Lets add the comoving and angular diameter distance columns in the sky_halos_1_2 (Mpc/h)\n",
    "from colossus.cosmology import cosmology\n",
    "from astropy.cosmology import FlatLambdaCDM\n",
    "astropy_cosmo = FlatLambdaCDM(H0=skycosmology.H0.value, Om0=skycosmology.Om0,Ob0 = skycosmology.Ob0) # Does not incorporate h due to the non-normalized H0 value defined.\n",
    "col_cosmo = cosmology.fromAstropy(astropy_cosmo,sigma8 = skycosmology.sigma8, ns= skycosmology.n_s, cosmo_name='col_cosmo')\n",
    "### used this code to confirm that colossus and astropy(no h) and gcr package (astropy, no h) distance calculations are consistent \n",
    "print(col_cosmo.comovingDistance(z_max=sky_halos_1_2['redshift'][0], transverse=False) )\n",
    "print(col_cosmo.angularDiameterDistance(sky_halos_1_2['redshift'][0]))\n",
    "\n",
    "print(astropy_cosmo.comoving_distance(sky_halos_1_2['redshift'][0]).value* h)\n",
    "print(((astropy_cosmo.comoving_distance(sky_halos_1_2['redshift'][0]).value * h)/(1+sky_halos_1_2['redshift'][0])))\n",
    "\n",
    "print(skycosmology.comoving_distance(sky_halos_1_2['redshift'][0]).value * h)\n",
    "print((skycosmology.angular_diameter_distance(sky_halos_1_2['redshift'][0]).value*h))"
   ]
  },
  {
   "cell_type": "code",
   "execution_count": 53,
   "id": "ef34b5da-8fbe-468f-912b-ee6ed5435c1e",
   "metadata": {
    "tags": []
   },
   "outputs": [
    {
     "data": {
      "text/html": [
       "<i>Table length=3</i>\n",
       "<table id=\"table140539885804080\" class=\"table-striped table-bordered table-condensed\">\n",
       "<thead><tr><th>baseDC2/sod_halo_mass</th><th>baseDC2/sod_halo_radius</th><th>redshift</th><th>dec</th><th>magnification</th><th>hostHaloMass</th><th>ra</th><th>halo_id</th><th>halo_mass</th><th>pixel_id</th><th>comoving_dis</th><th>Angular_dis</th></tr></thead>\n",
       "<thead><tr><th>float64</th><th>float64</th><th>float64</th><th>float64</th><th>float64</th><th>float64</th><th>float64</th><th>int64</th><th>float64</th><th>int64</th><th>float64</th><th>float64</th></tr></thead>\n",
       "<tr><td>26579065372672.0</td><td>0.5446251034736633</td><td>0.20139660562430461</td><td>-40.04846723879825</td><td>0.9979623519401493</td><td>29968075587584.0</td><td>0.7221434040834472</td><td>21510048411</td><td>42208557165611.27</td><td>10048</td><td>578.5422387562394</td><td>481.5580766982444</td></tr>\n",
       "<tr><td>12196470849536.0</td><td>0.42025429010391235</td><td>0.20235857998513196</td><td>-39.682839702198365</td><td>0.997030957534533</td><td>13286176194560.0</td><td>0.6680873385457778</td><td>25010048411</td><td>18712924217690.14</td><td>10048</td><td>581.1804754957128</td><td>483.3670131109303</td></tr>\n",
       "<tr><td>37273152258048.0</td><td>0.6095867156982422</td><td>0.20127788911557642</td><td>-41.67162639435926</td><td>0.9972005247310122</td><td>48268515999744.0</td><td>0.013164711073756979</td><td>25410048411</td><td>67983825351752.12</td><td>10048</td><td>578.216571539317</td><td>481.33456611360805</td></tr>\n",
       "</table>"
      ],
      "text/plain": [
       "<Table length=3>\n",
       "baseDC2/sod_halo_mass baseDC2/sod_halo_radius ...    Angular_dis    \n",
       "       float64                float64         ...      float64      \n",
       "--------------------- ----------------------- ... ------------------\n",
       "     26579065372672.0      0.5446251034736633 ...  481.5580766982444\n",
       "     12196470849536.0     0.42025429010391235 ...  483.3670131109303\n",
       "     37273152258048.0      0.6095867156982422 ... 481.33456611360805"
      ]
     },
     "execution_count": 53,
     "metadata": {},
     "output_type": "execute_result"
    }
   ],
   "source": [
    "sky_halos_1_2['comoving_dis'] = skycosmology.comoving_distance(sky_halos_1_2['redshift']).value * h\n",
    "sky_halos_1_2['Angular_dis'] = skycosmology.angular_diameter_distance(sky_halos_1_2['redshift']).value*h\n",
    "sky_halos_1_2[:3]"
   ]
  },
  {
   "cell_type": "code",
   "execution_count": 55,
   "id": "88cb5a04-189f-4d98-be38-9e67268281f0",
   "metadata": {
    "tags": []
   },
   "outputs": [],
   "source": [
    "# sky_halos_1_2.write(file_path+\"halos/skysim_0.2-1-2152757_comv&DA.dat\", format='ascii') #Mpc/h"
   ]
  },
  {
   "cell_type": "code",
   "execution_count": 58,
   "id": "558e68e9-8109-4e35-a2c1-5a6c04a469ba",
   "metadata": {
    "tags": []
   },
   "outputs": [
    {
     "data": {
      "text/plain": [
       "5139.3125"
      ]
     },
     "execution_count": 58,
     "metadata": {},
     "output_type": "execute_result"
    }
   ],
   "source": [
    "len(sky_halos_1_2[(sky_halos_1_2['redshift']<=0.35) & (sky_halos_1_2['redshift']<0.5)])/32"
   ]
  },
  {
   "cell_type": "markdown",
   "id": "3a382981-032b-4376-8e59-db3a770d3245",
   "metadata": {
    "jp-MarkdownHeadingCollapsed": true,
    "tags": []
   },
   "source": [
    "### Comparing the halos in SkySim5000 and cosmoDC2"
   ]
  },
  {
   "cell_type": "code",
   "execution_count": 76,
   "id": "863c013b-b9db-4e2b-a35f-7f4dd4865746",
   "metadata": {},
   "outputs": [
    {
     "data": {
      "text/plain": [
       "0"
      ]
     },
     "execution_count": 76,
     "metadata": {},
     "output_type": "execute_result"
    }
   ],
   "source": [
    "common_halo = astropy.table.join(cosmo_halos, sky_02_1, join_type='inner', keys=['redshift'])\n",
    "len(common_halo)"
   ]
  },
  {
   "cell_type": "code",
   "execution_count": 95,
   "id": "43360f73-f5a4-4115-872b-c5ce5c274151",
   "metadata": {},
   "outputs": [
    {
     "data": {
      "text/html": [
       "<i>Table length=5</i>\n",
       "<table id=\"table23455438535696\" class=\"table-striped table-bordered table-condensed\">\n",
       "<thead><tr><th>ra</th><th>redshift</th><th>halo_mass</th><th>halo_id</th><th>hostHaloMass</th><th>dec</th></tr></thead>\n",
       "<thead><tr><th>float64</th><th>float64</th><th>float64</th><th>int64</th><th>float64</th><th>float64</th></tr></thead>\n",
       "<tr><td>53.96061524970854</td><td>0.23278120846901418</td><td>13974243864518.31</td><td>154600053401</td><td>9921713143808.0</td><td>-29.58003174126673</td></tr>\n",
       "<tr><td>65.61843273894185</td><td>0.32995084928639673</td><td>13974243864518.31</td><td>389500057373</td><td>9921713143808.0</td><td>-30.07862193627271</td></tr>\n",
       "<tr><td>62.599536811799446</td><td>0.32233818459939045</td><td>13974243864518.31</td><td>141900082373</td><td>9921713143808.0</td><td>-32.58130777993443</td></tr>\n",
       "<tr><td>64.60383242955476</td><td>0.32040210893436205</td><td>13974243864518.31</td><td>150700097373</td><td>9921713143808.0</td><td>-34.12235725601518</td></tr>\n",
       "<tr><td>55.37265585300007</td><td>0.34573518660213587</td><td>13974243864518.31</td><td>109365</td><td>9921713143808.0</td><td>-35.05240527297359</td></tr>\n",
       "</table>"
      ],
      "text/plain": [
       "<Table length=5>\n",
       "        ra               redshift      ...   hostHaloMass         dec        \n",
       "     float64             float64       ...     float64          float64      \n",
       "------------------ ------------------- ... --------------- ------------------\n",
       " 53.96061524970854 0.23278120846901418 ... 9921713143808.0 -29.58003174126673\n",
       " 65.61843273894185 0.32995084928639673 ... 9921713143808.0 -30.07862193627271\n",
       "62.599536811799446 0.32233818459939045 ... 9921713143808.0 -32.58130777993443\n",
       " 64.60383242955476 0.32040210893436205 ... 9921713143808.0 -34.12235725601518\n",
       " 55.37265585300007 0.34573518660213587 ... 9921713143808.0 -35.05240527297359"
      ]
     },
     "execution_count": 95,
     "metadata": {},
     "output_type": "execute_result"
    }
   ],
   "source": [
    "len(cosmo_halos[cosmo_halos['halo_mass']==13974243864518.31])\n",
    "len(sky_02_1[sky_02_1['halo_mass']==13974243864518.31])"
   ]
  },
  {
   "cell_type": "markdown",
   "id": "42931d2c-306a-40c5-b4fd-ba70517c50f7",
   "metadata": {},
   "source": [
    "# 0.2 $<$ Z $<$ 1, Mass $\\ge 1e13$"
   ]
  },
  {
   "cell_type": "code",
   "execution_count": 5,
   "id": "54f75fa1-e537-4989-9d19-7fe6631e02aa",
   "metadata": {},
   "outputs": [
    {
     "name": "stdout",
     "output_type": "stream",
     "text": [
      "There are 452466474 clusters in this mass and redshift range\n"
     ]
    }
   ],
   "source": [
    "# mmin = 1.e13 #1.e14\n",
    "zmin = 0.8\n",
    "zmax = 1 #1\n",
    "sky_02_1 = Table(skysim.get_quantities(['halo_mass','redshift','ra', 'dec', 'halo_id',\n",
    "                                             'baseDC2/sod_halo_mass','baseDC2/sod_halo_radius'],\n",
    "                                            filters=['is_central==True', f'redshift>{zmin}', f'redshift<={zmax}']))\n",
    "\n",
    "N_halos = len(sky_02_1['ra'])\n",
    "print(f'There are {N_halos} clusters in this mass and redshift range')"
   ]
  },
  {
   "cell_type": "code",
   "execution_count": 6,
   "id": "5175527e-c0df-45da-a13d-b3f63de5e64c",
   "metadata": {},
   "outputs": [
    {
     "name": "stdout",
     "output_type": "stream",
     "text": [
      "3486615\n"
     ]
    }
   ],
   "source": [
    "sky_02_1 = sky_02_1[sky_02_1['baseDC2/sod_halo_mass']>0]\n",
    "print(len(sky_02_1))"
   ]
  },
  {
   "cell_type": "code",
   "execution_count": 7,
   "id": "8056de82-c069-481d-8f0b-0f12861414e6",
   "metadata": {},
   "outputs": [
    {
     "data": {
      "text/plain": [
       "'1.851646e+12'"
      ]
     },
     "execution_count": 7,
     "metadata": {},
     "output_type": "execute_result"
    }
   ],
   "source": [
    "'{:e}'.format(sky_02_1['baseDC2/sod_halo_mass'].min())"
   ]
  },
  {
   "cell_type": "code",
   "execution_count": 8,
   "id": "1581170f-cae9-4aae-b9c7-a24d97a8c65d",
   "metadata": {},
   "outputs": [
    {
     "name": "stdout",
     "output_type": "stream",
     "text": [
      "3486615 \n",
      " 1588\n"
     ]
    }
   ],
   "source": [
    "## Convert all the ra and dec of skysim halos to pixel id\n",
    "nside = 32\n",
    "pixelId = []   #162\n",
    "for i in range(len(sky_02_1)):\n",
    "    pixel_id = hp.pixelfunc.ang2pix(nside, sky_02_1['ra'][i], sky_02_1['dec'][i], lonlat=True)\n",
    "    # print(hpix)\n",
    "    pixelId.append(pixel_id)\n",
    "print(len(pixelId),'\\n', len(np.unique(pixelId)))\n",
    "\n",
    "sky_02_1['pixel_id'] = pixelId\n",
    "len(np.unique(sky_02_1['pixel_id']))\n",
    "\n",
    "# sky_02_1.write(file_path+'halos/Skysim_SOD_Filter/skysim_0.8-1_1.1.1_.dat', format='ascii')\n"
   ]
  },
  {
   "cell_type": "code",
   "execution_count": null,
   "id": "5f7f669c-05ff-4711-98d6-14d26c5229ab",
   "metadata": {},
   "outputs": [],
   "source": [
    "# sky_02_1 = Table.read(file_path+'halos/Skysim_SOD_Filter/skysim_0.2-0.5_1.1.1_.dat', format='ascii')"
   ]
  },
  {
   "cell_type": "code",
   "execution_count": 41,
   "id": "79d0eac8-1d01-4e38-929c-b3cb20b1a25f",
   "metadata": {},
   "outputs": [
    {
     "data": {
      "text/plain": [
       "<matplotlib.collections.PathCollection at 0x15551c2055b0>"
      ]
     },
     "execution_count": 41,
     "metadata": {},
     "output_type": "execute_result"
    },
    {
     "data": {
      "image/png": "[encoded data removed]",
      "text/plain": [
       "<Figure size 432x288 with 1 Axes>"
      ]
     },
     "metadata": {
      "needs_background": "light"
     },
     "output_type": "display_data"
    }
   ],
   "source": [
    "plt.scatter(sky_02_1['dec'],sky_02_1['ra'],marker='.', s=0.001)\n",
    "plt.show()"
   ]
  },
  {
   "cell_type": "markdown",
   "id": "e7452b69-4a87-4cff-814a-26aac98d5cf6",
   "metadata": {},
   "source": [
    "# FOF vs SOD"
   ]
  },
  {
   "cell_type": "code",
   "execution_count": 17,
   "id": "cf870f84-94de-4b36-855d-0dfe29024bc7",
   "metadata": {},
   "outputs": [
    {
     "name": "stdout",
     "output_type": "stream",
     "text": [
      "9132204\n",
      "1280689\n"
     ]
    }
   ],
   "source": [
    "sod = Table.read(file_path+'halos/Skysim_SOD_Filter/skysim_0.2-1_1.1.1_SOD.dat', format='ascii')\n",
    "print(len(sod))\n",
    "sod = sod[sod['baseDC2/sod_halo_mass']>=1e13]\n",
    "print(len(sod))"
   ]
  },
  {
   "cell_type": "code",
   "execution_count": 18,
   "id": "527fe6ea-2592-4145-aa3f-fb1f5d5f3994",
   "metadata": {},
   "outputs": [
    {
     "name": "stdout",
     "output_type": "stream",
     "text": [
      "2152757\n",
      "2149934\n"
     ]
    }
   ],
   "source": [
    "fof_sd_s = pd.read_pickle(file_path + 'WL-Signal/skysim-full-2152757-1.1.1.csv')\n",
    "print(len(fof_sd_s))\n",
    "fof_sd_s = fof_sd_s[fof_sd_s['baseDC2/sod_halo_mass']>0]\n",
    "print(len(fof_sd_s))"
   ]
  },
  {
   "cell_type": "code",
   "execution_count": 23,
   "id": "76cc8f79-b1ac-46cd-acb3-8235ef90c98a",
   "metadata": {},
   "outputs": [
    {
     "data": {
      "text/plain": [
       "1280689"
      ]
     },
     "execution_count": 23,
     "metadata": {},
     "output_type": "execute_result"
    }
   ],
   "source": [
    "np.sum(np.isin(sod['redshift'], fof_sd_s['redshift']))"
   ]
  },
  {
   "cell_type": "markdown",
   "id": "e059ca35-f860-4011-a007-e7e3750938e0",
   "metadata": {},
   "source": [
    "# $\\Delta\\Sigma$ measurements (SkySim5000)"
   ]
  },
  {
   "cell_type": "code",
   "execution_count": 5,
   "id": "de6ea25b-9e04-415b-89b3-6357f29a32b2",
   "metadata": {},
   "outputs": [],
   "source": [
    "skycosmology = skysim.cosmology # Cosmological parameters\n",
    "cosmoskysim = FlatLambdaCDM(H0=skycosmology.H0.value, Om0= skycosmology.Om0)"
   ]
  },
  {
   "cell_type": "code",
   "execution_count": null,
   "id": "76fdb2f4-cfb8-4e45-a79a-ccbd07f5ea92",
   "metadata": {
    "tags": []
   },
   "outputs": [],
   "source": [
    "# # Get the neighbouring pixels \n",
    "# hpix_list = skysim.available_healpix_pixels   # Load all the available pixels of cosmoDC2 catalog\n",
    "# # hpix = hpix_list[14] # First pixel\n",
    "# hpix_neighbors = hp.pixelfunc.get_all_neighbours(32, hpix)\n",
    "# hpix_toread = list(set(hpix_list) & set(hpix_neighbors)) + [hpix]\n",
    "# print(hpix, '\\n' ,len(hpix_list))"
   ]
  },
  {
   "cell_type": "code",
   "execution_count": 13,
   "id": "5089974f-9057-4a76-9937-f23b573ddcfb",
   "metadata": {},
   "outputs": [
    {
     "data": {
      "text/html": [
       "<i>Table length=5</i>\n",
       "<table id=\"table23455314831584\" class=\"table-striped table-bordered table-condensed\">\n",
       "<thead><tr><th>baseDC2/sod_halo_mass</th><th>baseDC2/sod_halo_radius</th><th>redshift</th><th>dec</th><th>magnification</th><th>hostHaloMass</th><th>ra</th><th>halo_id</th><th>halo_mass</th><th>pixel_id</th></tr></thead>\n",
       "<thead><tr><th>float64</th><th>float64</th><th>float64</th><th>float64</th><th>float64</th><th>float64</th><th>float64</th><th>int64</th><th>float64</th><th>float64</th></tr></thead>\n",
       "<tr><td>104281671729152.0</td><td>1.0513720512390137</td><td>0.8488817872538275</td><td>-89.67921871564947</td><td>0.9804736609879691</td><td>95467308318720.0</td><td>3.6961427313157635</td><td>235612284266</td><td>134460997632000.0</td><td>12284.0</td></tr>\n",
       "<tr><td>81814295150592.0</td><td>0.9104071259498596</td><td>0.5593153131379538</td><td>-87.5070818151548</td><td>0.9970970882466081</td><td>87854646558720.0</td><td>85.48134526741944</td><td>1332112277315</td><td>123738938815098.6</td><td>12277.0</td></tr>\n",
       "<tr><td>126876555149312.0</td><td>1.0648847818374634</td><td>0.5705594459023275</td><td>-86.88132966661455</td><td>0.9796146262383763</td><td>131072419430400.0</td><td>59.247561996235746</td><td>580412277307</td><td>184609041451267.62</td><td>12277.0</td></tr>\n",
       "<tr><td>105536431325184.0</td><td>1.0627847909927368</td><td>0.8667800476318284</td><td>-87.33224284819404</td><td>0.9689065185124965</td><td>100706665103360.0</td><td>89.34979655570908</td><td>2639012277259</td><td>141840373385014.1</td><td>12277.0</td></tr>\n",
       "<tr><td>-1.0</td><td>-1.0</td><td>0.5419131214002648</td><td>-87.2347553912253</td><td>0.9850092843443261</td><td>450769165746176.0</td><td>2.970430812092282</td><td>1231412276323</td><td>634886148938276.1</td><td>12276.0</td></tr>\n",
       "</table>"
      ],
      "text/plain": [
       "<Table length=5>\n",
       "baseDC2/sod_halo_mass baseDC2/sod_halo_radius ...     halo_mass      pixel_id\n",
       "       float64                float64         ...      float64       float64 \n",
       "--------------------- ----------------------- ... ------------------ --------\n",
       "    104281671729152.0      1.0513720512390137 ...  134460997632000.0  12284.0\n",
       "     81814295150592.0      0.9104071259498596 ...  123738938815098.6  12277.0\n",
       "    126876555149312.0      1.0648847818374634 ... 184609041451267.62  12277.0\n",
       "    105536431325184.0      1.0627847909927368 ...  141840373385014.1  12277.0\n",
       "                 -1.0                    -1.0 ...  634886148938276.1  12276.0"
      ]
     },
     "execution_count": 13,
     "metadata": {},
     "output_type": "execute_result"
    }
   ],
   "source": [
    "halos_5241 = Table.read('/global/u1/k/kamau/SE-CLMM-LSSTDESC/cosmoDC2/Data/halos/skysim_0.2-1-5241.dat', format='ascii')\n",
    "halos_5241[:5]"
   ]
  },
  {
   "cell_type": "code",
   "execution_count": 22,
   "id": "4f9ea2ac-7e4d-4c18-b1a9-a77633efd328",
   "metadata": {},
   "outputs": [
    {
     "data": {
      "text/plain": [
       "'1.947381e+15'"
      ]
     },
     "execution_count": 22,
     "metadata": {},
     "output_type": "execute_result"
    }
   ],
   "source": [
    "'{:e}'.format(halos_5241['halo_mass'].max())"
   ]
  },
  {
   "cell_type": "code",
   "execution_count": 41,
   "id": "32b1e0b7-a247-43f7-a7c0-fa1feffc7cb8",
   "metadata": {},
   "outputs": [],
   "source": [
    "undone_WL = halos_5241.to_pandas()[~pd.Series(halos_5241['halo_id']).isin(list(set(sky_02_1['halo_id'])))]\n",
    "undone_WL = undone_WL.reset_index(drop=True)"
   ]
  },
  {
   "cell_type": "code",
   "execution_count": 42,
   "id": "c9de7855-b70d-4357-8178-325d7edd8659",
   "metadata": {},
   "outputs": [
    {
     "data": {
      "text/html": [
       "<div>\n",
       "<style scoped>\n",
       "    .dataframe tbody tr th:only-of-type {\n",
       "        vertical-align: middle;\n",
       "    }\n",
       "\n",
       "    .dataframe tbody tr th {\n",
       "        vertical-align: top;\n",
       "    }\n",
       "\n",
       "    .dataframe thead th {\n",
       "        text-align: right;\n",
       "    }\n",
       "</style>\n",
       "<table border=\"1\" class=\"dataframe\">\n",
       "  <thead>\n",
       "    <tr style=\"text-align: right;\">\n",
       "      <th></th>\n",
       "      <th>baseDC2/sod_halo_mass</th>\n",
       "      <th>baseDC2/sod_halo_radius</th>\n",
       "      <th>redshift</th>\n",
       "      <th>dec</th>\n",
       "      <th>magnification</th>\n",
       "      <th>hostHaloMass</th>\n",
       "      <th>ra</th>\n",
       "      <th>halo_id</th>\n",
       "      <th>halo_mass</th>\n",
       "      <th>pixel_id</th>\n",
       "    </tr>\n",
       "  </thead>\n",
       "  <tbody>\n",
       "    <tr>\n",
       "      <th>0</th>\n",
       "      <td>-1.000000e+00</td>\n",
       "      <td>-1.000000</td>\n",
       "      <td>0.751209</td>\n",
       "      <td>-82.856675</td>\n",
       "      <td>1.006219</td>\n",
       "      <td>1.661309e+12</td>\n",
       "      <td>6.390553</td>\n",
       "      <td>1748212228279</td>\n",
       "      <td>2.339871e+12</td>\n",
       "      <td>12228.0</td>\n",
       "    </tr>\n",
       "    <tr>\n",
       "      <th>1</th>\n",
       "      <td>3.213585e+12</td>\n",
       "      <td>0.296351</td>\n",
       "      <td>0.453958</td>\n",
       "      <td>-78.551038</td>\n",
       "      <td>1.020623</td>\n",
       "      <td>3.754964e+12</td>\n",
       "      <td>5.410352</td>\n",
       "      <td>971812144338</td>\n",
       "      <td>5.288682e+12</td>\n",
       "      <td>12144.0</td>\n",
       "    </tr>\n",
       "    <tr>\n",
       "      <th>2</th>\n",
       "      <td>4.562589e+12</td>\n",
       "      <td>0.333030</td>\n",
       "      <td>0.446377</td>\n",
       "      <td>-77.899704</td>\n",
       "      <td>1.005946</td>\n",
       "      <td>5.684305e+12</td>\n",
       "      <td>33.869763</td>\n",
       "      <td>859712111338</td>\n",
       "      <td>8.006063e+12</td>\n",
       "      <td>12111.0</td>\n",
       "    </tr>\n",
       "    <tr>\n",
       "      <th>3</th>\n",
       "      <td>5.601136e+12</td>\n",
       "      <td>0.376451</td>\n",
       "      <td>0.613507</td>\n",
       "      <td>-74.697585</td>\n",
       "      <td>1.011817</td>\n",
       "      <td>5.386758e+12</td>\n",
       "      <td>76.194721</td>\n",
       "      <td>586012076307</td>\n",
       "      <td>7.586983e+12</td>\n",
       "      <td>12076.0</td>\n",
       "    </tr>\n",
       "    <tr>\n",
       "      <th>4</th>\n",
       "      <td>5.149128e+13</td>\n",
       "      <td>0.853829</td>\n",
       "      <td>0.999048</td>\n",
       "      <td>-75.153411</td>\n",
       "      <td>1.008635</td>\n",
       "      <td>6.018791e+13</td>\n",
       "      <td>74.427401</td>\n",
       "      <td>1298012076241</td>\n",
       "      <td>8.477170e+13</td>\n",
       "      <td>12076.0</td>\n",
       "    </tr>\n",
       "    <tr>\n",
       "      <th>...</th>\n",
       "      <td>...</td>\n",
       "      <td>...</td>\n",
       "      <td>...</td>\n",
       "      <td>...</td>\n",
       "      <td>...</td>\n",
       "      <td>...</td>\n",
       "      <td>...</td>\n",
       "      <td>...</td>\n",
       "      <td>...</td>\n",
       "      <td>...</td>\n",
       "    </tr>\n",
       "    <tr>\n",
       "      <th>188</th>\n",
       "      <td>-1.000000e+00</td>\n",
       "      <td>-1.000000</td>\n",
       "      <td>0.937926</td>\n",
       "      <td>-2.704028</td>\n",
       "      <td>0.992630</td>\n",
       "      <td>1.016365e+12</td>\n",
       "      <td>76.566658</td>\n",
       "      <td>2833306363253</td>\n",
       "      <td>1.431500e+12</td>\n",
       "      <td>6363.0</td>\n",
       "    </tr>\n",
       "    <tr>\n",
       "      <th>189</th>\n",
       "      <td>-1.000000e+00</td>\n",
       "      <td>-1.000000</td>\n",
       "      <td>0.547404</td>\n",
       "      <td>-2.279047</td>\n",
       "      <td>0.992552</td>\n",
       "      <td>9.479919e+11</td>\n",
       "      <td>26.186360</td>\n",
       "      <td>414306345315</td>\n",
       "      <td>1.335200e+12</td>\n",
       "      <td>6345.0</td>\n",
       "    </tr>\n",
       "    <tr>\n",
       "      <th>190</th>\n",
       "      <td>-1.000000e+00</td>\n",
       "      <td>-1.000000</td>\n",
       "      <td>0.807352</td>\n",
       "      <td>-2.121150</td>\n",
       "      <td>1.001181</td>\n",
       "      <td>7.428730e+11</td>\n",
       "      <td>6.364839</td>\n",
       "      <td>1551706338272</td>\n",
       "      <td>1.046300e+12</td>\n",
       "      <td>6338.0</td>\n",
       "    </tr>\n",
       "    <tr>\n",
       "      <th>191</th>\n",
       "      <td>-1.000000e+00</td>\n",
       "      <td>-1.000000</td>\n",
       "      <td>0.874141</td>\n",
       "      <td>-0.552678</td>\n",
       "      <td>0.998462</td>\n",
       "      <td>5.137304e+11</td>\n",
       "      <td>78.225191</td>\n",
       "      <td>1971406236259</td>\n",
       "      <td>7.235640e+11</td>\n",
       "      <td>6236.0</td>\n",
       "    </tr>\n",
       "    <tr>\n",
       "      <th>192</th>\n",
       "      <td>-1.000000e+00</td>\n",
       "      <td>-1.000000</td>\n",
       "      <td>0.640337</td>\n",
       "      <td>-0.173501</td>\n",
       "      <td>1.005714</td>\n",
       "      <td>1.511622e+12</td>\n",
       "      <td>1.963676</td>\n",
       "      <td>23006080300</td>\n",
       "      <td>2.129045e+12</td>\n",
       "      <td>6080.0</td>\n",
       "    </tr>\n",
       "  </tbody>\n",
       "</table>\n",
       "<p>193 rows × 10 columns</p>\n",
       "</div>"
      ],
      "text/plain": [
       "     baseDC2/sod_halo_mass  baseDC2/sod_halo_radius  redshift        dec  \\\n",
       "0            -1.000000e+00                -1.000000  0.751209 -82.856675   \n",
       "1             3.213585e+12                 0.296351  0.453958 -78.551038   \n",
       "2             4.562589e+12                 0.333030  0.446377 -77.899704   \n",
       "3             5.601136e+12                 0.376451  0.613507 -74.697585   \n",
       "4             5.149128e+13                 0.853829  0.999048 -75.153411   \n",
       "..                     ...                      ...       ...        ...   \n",
       "188          -1.000000e+00                -1.000000  0.937926  -2.704028   \n",
       "189          -1.000000e+00                -1.000000  0.547404  -2.279047   \n",
       "190          -1.000000e+00                -1.000000  0.807352  -2.121150   \n",
       "191          -1.000000e+00                -1.000000  0.874141  -0.552678   \n",
       "192          -1.000000e+00                -1.000000  0.640337  -0.173501   \n",
       "\n",
       "     magnification  hostHaloMass         ra        halo_id     halo_mass  \\\n",
       "0         1.006219  1.661309e+12   6.390553  1748212228279  2.339871e+12   \n",
       "1         1.020623  3.754964e+12   5.410352   971812144338  5.288682e+12   \n",
       "2         1.005946  5.684305e+12  33.869763   859712111338  8.006063e+12   \n",
       "3         1.011817  5.386758e+12  76.194721   586012076307  7.586983e+12   \n",
       "4         1.008635  6.018791e+13  74.427401  1298012076241  8.477170e+13   \n",
       "..             ...           ...        ...            ...           ...   \n",
       "188       0.992630  1.016365e+12  76.566658  2833306363253  1.431500e+12   \n",
       "189       0.992552  9.479919e+11  26.186360   414306345315  1.335200e+12   \n",
       "190       1.001181  7.428730e+11   6.364839  1551706338272  1.046300e+12   \n",
       "191       0.998462  5.137304e+11  78.225191  1971406236259  7.235640e+11   \n",
       "192       1.005714  1.511622e+12   1.963676    23006080300  2.129045e+12   \n",
       "\n",
       "     pixel_id  \n",
       "0     12228.0  \n",
       "1     12144.0  \n",
       "2     12111.0  \n",
       "3     12076.0  \n",
       "4     12076.0  \n",
       "..        ...  \n",
       "188    6363.0  \n",
       "189    6345.0  \n",
       "190    6338.0  \n",
       "191    6236.0  \n",
       "192    6080.0  \n",
       "\n",
       "[193 rows x 10 columns]"
      ]
     },
     "execution_count": 42,
     "metadata": {},
     "output_type": "execute_result"
    }
   ],
   "source": [
    "undone_WL"
   ]
  },
  {
   "cell_type": "code",
   "execution_count": 48,
   "id": "d76092dc-c033-447c-ace9-1be54be0569c",
   "metadata": {},
   "outputs": [],
   "source": [
    "# for i in range(len(np.unique(undone_WL['pixel_id']))):\n",
    "#     s_ds = pd.DataFrame(columns=['halo_id','radius','sigma','DS'])\n",
    "#     s_ds.to_pickle('/global/homes/k/kamau/SE-CLMM-LSSTDESC/cosmoDC2/Data/clusters-skysim/skysim-{}.csv'.format(np.unique(undone_WL['pixel_id'])[i]))"
   ]
  },
  {
   "cell_type": "code",
   "execution_count": 18,
   "id": "799e86ec-161c-4c07-a0ae-04d116c9ce3f",
   "metadata": {
    "tags": []
   },
   "outputs": [
    {
     "data": {
      "text/html": [
       "<i>Table length=719</i>\n",
       "<table id=\"table139779771755488\" class=\"table-striped table-bordered table-condensed\">\n",
       "<thead><tr><th>baseDC2/sod_halo_mass</th><th>baseDC2/sod_halo_radius</th><th>redshift</th><th>dec</th><th>magnification</th><th>hostHaloMass</th><th>ra</th><th>halo_id</th><th>halo_mass</th><th>pixel_id</th><th>comoving_dis</th><th>Angular_dis</th></tr></thead>\n",
       "<thead><tr><th>float64</th><th>float64</th><th>float64</th><th>float64</th><th>float64</th><th>float64</th><th>float64</th><th>int64</th><th>float64</th><th>int64</th><th>float64</th><th>float64</th></tr></thead>\n",
       "<tr><td>26579065372672.0</td><td>0.5446251034736633</td><td>0.20139660562430461</td><td>-40.04846723879825</td><td>0.9979623519401493</td><td>29968075587584.0</td><td>0.7221434040834472</td><td>21510048411</td><td>42208557165611.27</td><td>10048</td><td>578.5422387562394</td><td>481.5580766982444</td></tr>\n",
       "<tr><td>12196470849536.0</td><td>0.42025429010391235</td><td>0.20235857998513196</td><td>-39.682839702198365</td><td>0.997030957534533</td><td>13286176194560.0</td><td>0.6680873385457778</td><td>25010048411</td><td>18712924217690.14</td><td>10048</td><td>581.1804754957128</td><td>483.3670131109303</td></tr>\n",
       "<tr><td>37273152258048.0</td><td>0.6095867156982422</td><td>0.20127788911557642</td><td>-41.67162639435926</td><td>0.9972005247310122</td><td>48268515999744.0</td><td>0.013164711073756979</td><td>25410048411</td><td>67983825351752.12</td><td>10048</td><td>578.216571539317</td><td>481.33456611360805</td></tr>\n",
       "<tr><td>9766415892480.0</td><td>0.39577725529670715</td><td>0.22696239718685396</td><td>-39.57973265852448</td><td>0.9976410185064334</td><td>10810404372480.0</td><td>0.529586827746835</td><td>5910048401</td><td>15225921651380.283</td><td>10048</td><td>648.2421221165553</td><td>528.3308792533717</td></tr>\n",
       "<tr><td>7643121319936.0</td><td>0.3648497760295868</td><td>0.23680849836272055</td><td>-39.88970382971425</td><td>0.9963994121737512</td><td>7977815769088.0</td><td>0.3147674614075478</td><td>10510048401</td><td>11236360238152.113</td><td>10048</td><td>674.8550234645385</td><td>545.642291719298</td></tr>\n",
       "<tr><td>8215986176000.0</td><td>0.37367770075798035</td><td>0.23176066467426137</td><td>-40.1511492375722</td><td>0.9961442131763996</td><td>8650529701888.0</td><td>0.10232040373252264</td><td>17410048401</td><td>12183844650546.479</td><td>10048</td><td>661.2273360360831</td><td>536.8147847219528</td></tr>\n",
       "<tr><td>11708611428352.0</td><td>0.4205550253391266</td><td>0.23887678422841274</td><td>-39.946522386286986</td><td>0.9985839597124821</td><td>11909720965120.0</td><td>0.022875024241410996</td><td>73110048401</td><td>16774254880450.705</td><td>10048</td><td>680.429044170169</td><td>549.2306037472067</td></tr>\n",
       "<tr><td>32636646981632.0</td><td>0.5917994976043701</td><td>0.22901029830508346</td><td>-39.26761959832306</td><td>0.9970071714861173</td><td>32890964410368.0</td><td>0.12805312592424875</td><td>75110048401</td><td>46325301986433.805</td><td>10048</td><td>653.7879409713665</td><td>531.9629476441323</td></tr>\n",
       "<tr><td>8230769524736.0</td><td>0.3794264495372772</td><td>0.2570435013059529</td><td>-39.9882721329609</td><td>0.9994565606394468</td><td>8188500901888.0</td><td>0.6369831913747234</td><td>20210048392</td><td>11533099861814.086</td><td>10048</td><td>729.1444340130892</td><td>580.0470972210389</td></tr>\n",
       "<tr><td>9406065410048.0</td><td>0.39664721488952637</td><td>0.26054289577795986</td><td>-39.97492030795413</td><td>0.9969989173573758</td><td>9888456507392.0</td><td>0.9075784652636065</td><td>40810048392</td><td>13927403531538.03</td><td>10048</td><td>738.4779819896422</td><td>585.8412152915124</td></tr>\n",
       "<tr><td>...</td><td>...</td><td>...</td><td>...</td><td>...</td><td>...</td><td>...</td><td>...</td><td>...</td><td>...</td><td>...</td><td>...</td></tr>\n",
       "<tr><td>58452508409856.0</td><td>0.8850966691970825</td><td>0.9933683958195001</td><td>-40.12232327367459</td><td>0.9860382151502363</td><td>54476069142528.0</td><td>0.39602316921527037</td><td>1259210048247</td><td>76726857947222.53</td><td>10048</td><td>2351.29038268213</td><td>1179.5563668076934</td></tr>\n",
       "<tr><td>39749406425088.0</td><td>0.7784777879714966</td><td>0.9616237395361364</td><td>-39.70796538816059</td><td>0.9810361309678642</td><td>35662891843584.0</td><td>0.36907583822503853</td><td>1287210048247</td><td>50229425131808.45</td><td>10048</td><td>2294.24114857684</td><td>1169.5622877807123</td></tr>\n",
       "<tr><td>9707281448960.0</td><td>0.48717406392097473</td><td>0.9743134999957968</td><td>-39.69422996377714</td><td>1.001688329737683</td><td>9057040596992.0</td><td>0.4518022482073838</td><td>1436310048247</td><td>12756395207030.986</td><td>10048</td><td>2317.1676354144934</td><td>1173.6573930226516</td></tr>\n",
       "<tr><td>4592155754496.0</td><td>0.3791681230068207</td><td>0.9621385747748186</td><td>-40.448651686953745</td><td>0.9864246121244841</td><td>8160779173888.0</td><td>0.5269723536885828</td><td>1456310048247</td><td>11494055174490.14</td><td>10048</td><td>2295.174464692733</td><td>1169.731075164319</td></tr>\n",
       "<tr><td>8908966985728.0</td><td>0.4728274941444397</td><td>0.9585167804594648</td><td>-39.665023882654786</td><td>1.0054205037095054</td><td>11852445646848.0</td><td>0.25377525419987557</td><td>1467910048247</td><td>16693585418095.775</td><td>10048</td><td>2288.603009432573</td><td>1168.5388822125233</td></tr>\n",
       "<tr><td>65001645670400.0</td><td>0.8608217239379883</td><td>0.6351695231240859</td><td>-41.45614389024107</td><td>1.0704053769154847</td><td>64579065348096.0</td><td>0.3088021335392844</td><td>1126710176300</td><td>90956430067740.84</td><td>10048</td><td>1644.494339972185</td><td>1005.702660620951</td></tr>\n",
       "<tr><td>14419554729984.0</td><td>0.5303632616996765</td><td>0.7214847605382482</td><td>-40.62429264525707</td><td>0.9940402925637031</td><td>13762854649856.0</td><td>1.0468118483270068</td><td>296110176286</td><td>19384302323740.848</td><td>10048</td><td>1828.081761409448</td><td>1061.9215477910307</td></tr>\n",
       "<tr><td>9631515541504.0</td><td>0.47864535450935364</td><td>0.9102195087074774</td><td>-40.49085617666803</td><td>1.0350346915215052</td><td>22634987257856.0</td><td>1.1634396420226252</td><td>1961210176259</td><td>31880263743459.156</td><td>10048</td><td>2199.685594633195</td><td>1151.5355091947422</td></tr>\n",
       "<tr><td>13120445612032.0</td><td>0.518324613571167</td><td>0.7557688552706376</td><td>-39.19235776303386</td><td>1.008201750131971</td><td>11981777010688.0</td><td>0.46535290518118494</td><td>286909920279</td><td>16875742268574.648</td><td>10048</td><td>1898.5590466694566</td><td>1081.3263038412929</td></tr>\n",
       "<tr><td>10548098891776.0</td><td>0.4860664904117584</td><td>0.787195569916942</td><td>-39.386549971058365</td><td>1.0489963242283378</td><td>13565162422272.0</td><td>0.6422902664965893</td><td>760609920272</td><td>19105862566580.28</td><td>10048</td><td>1961.9748778793632</td><td>1097.7952893932832</td></tr>\n",
       "</table>"
      ],
      "text/plain": [
       "<Table length=719>\n",
       "baseDC2/sod_halo_mass baseDC2/sod_halo_radius ...    Angular_dis    \n",
       "       float64                float64         ...      float64      \n",
       "--------------------- ----------------------- ... ------------------\n",
       "     26579065372672.0      0.5446251034736633 ...  481.5580766982444\n",
       "     12196470849536.0     0.42025429010391235 ...  483.3670131109303\n",
       "     37273152258048.0      0.6095867156982422 ... 481.33456611360805\n",
       "      9766415892480.0     0.39577725529670715 ...  528.3308792533717\n",
       "      7643121319936.0      0.3648497760295868 ...   545.642291719298\n",
       "      8215986176000.0     0.37367770075798035 ...  536.8147847219528\n",
       "     11708611428352.0      0.4205550253391266 ...  549.2306037472067\n",
       "     32636646981632.0      0.5917994976043701 ...  531.9629476441323\n",
       "      8230769524736.0      0.3794264495372772 ...  580.0470972210389\n",
       "      9406065410048.0     0.39664721488952637 ...  585.8412152915124\n",
       "                  ...                     ... ...                ...\n",
       "     58452508409856.0      0.8850966691970825 ... 1179.5563668076934\n",
       "     39749406425088.0      0.7784777879714966 ... 1169.5622877807123\n",
       "      9707281448960.0     0.48717406392097473 ... 1173.6573930226516\n",
       "      4592155754496.0      0.3791681230068207 ...  1169.731075164319\n",
       "      8908966985728.0      0.4728274941444397 ... 1168.5388822125233\n",
       "     65001645670400.0      0.8608217239379883 ...  1005.702660620951\n",
       "     14419554729984.0      0.5303632616996765 ... 1061.9215477910307\n",
       "      9631515541504.0     0.47864535450935364 ... 1151.5355091947422\n",
       "     13120445612032.0       0.518324613571167 ... 1081.3263038412929\n",
       "     10548098891776.0      0.4860664904117584 ... 1097.7952893932832"
      ]
     },
     "execution_count": 18,
     "metadata": {},
     "output_type": "execute_result"
    }
   ],
   "source": [
    "sky_02_1[sky_02_1['pixel_id']==[10048]]"
   ]
  },
  {
   "cell_type": "code",
   "execution_count": 2,
   "id": "1120b61a-3b5a-49c8-bcff-07c881232e7b",
   "metadata": {
    "tags": []
   },
   "outputs": [
    {
     "name": "stdout",
     "output_type": "stream",
     "text": [
      "1580\n"
     ]
    }
   ],
   "source": [
    "file_path = r\"/global/u1/k/kamau/SE-CLMM-LSSTDESC/project-1/Data/\"\n",
    "sky_02_1 = Table.read(file_path + 'halos/skysim_0.2-1-2152757_comv&DA.dat', format='ascii')\n",
    "print(len(np.unique(sky_02_1['pixel_id'])))\n",
    "# sky_02_1 = sky_02_1[np.isin(sky_02_1['pixel_id'],[6080,10048])][714:720]\n",
    "# sky_02_1"
   ]
  },
  {
   "cell_type": "code",
   "execution_count": 44,
   "id": "2a1f9b0f-552d-4e46-83f0-be4949870806",
   "metadata": {
    "tags": []
   },
   "outputs": [],
   "source": [
    "import glob,os\n",
    "import math\n",
    "import astropy\n",
    "import healpy as hp\n",
    "import numpy as np\n",
    "import pandas as pd\n",
    "import pickle as pkl\n",
    "\n",
    "\n",
    "import GCRCatalogs as gcr\n",
    "from astropy.table import Table\n",
    "from astropy.coordinates import SkyCoord\n",
    "from multiprocessing import Pool, cpu_count\n",
    "\n",
    "import warnings\n",
    "warnings.filterwarnings('ignore')\n",
    "\n",
    "c = 3e5\n",
    "G = 4.302e-9\n",
    "nside = 32\n",
    "h = 0.71\n",
    "skysim = gcr.load_catalog('skysim5000_v1.1.1')\n",
    "skycosmology = skysim.cosmology\n",
    "# skycosmology = skysim.cosmology # Cosmological parameters\n",
    "# cosmoskysim = FlatLambdaCDM(H0=skycosmology.H0.value, Om0= skycosmology.Om0)\n",
    "\n",
    "file_path = r\"/global/u1/k/kamau/SE-CLMM-LSSTDESC/project-1/Data/\"\n",
    "sky_02_1 = Table.read(file_path + 'halos/skysim_0.2-1-2152757_comv&DA.dat', format='ascii')\n",
    "sky_02_1 = sky_02_1[np.isin(sky_02_1['pixel_id'],[6080,10048])][714:720]\n",
    "\n",
    "## Get the neighboring pixels\n",
    "def wlsignal(hpixels):\n",
    "    for i in range(len(hpixels)):\n",
    "        hpix = hpixels[i]\n",
    "        hpix_list = skysim.available_healpix_pixels\n",
    "        hpix_neighbors = hp.pixelfunc.get_all_neighbours(nside, hpix)\n",
    "        hpix_toread = list(set(hpix_list) & set(hpix_neighbors))\n",
    "        hpix_toread.append(hpix)\n",
    "        # print(hpix_toread)\n",
    "\n",
    "        ## Getting the source galaxies\n",
    "        ra_gal = []\n",
    "        dec_gal = []\n",
    "        z_gal = []\n",
    "        kappa = []\n",
    "        shear1 = []\n",
    "        shear2 = []\n",
    "\n",
    "        ## getting galaxies\n",
    "        for hpix_i in hpix_toread:\n",
    "            galaxy_data = skysim.get_quantities(['ra', 'dec', 'redshift', 'convergence', 'shear_1', 'shear_2'], filters=\n",
    "                                                ['convergence != 0','mag_i < 25'],  native_filters=f'healpix_pixel == {hpix_i}')\n",
    "            ra_gal.extend(galaxy_data['ra'])\n",
    "            dec_gal.extend(galaxy_data['dec'])\n",
    "            z_gal.extend(galaxy_data['redshift'])\n",
    "            kappa.extend(galaxy_data['convergence'])\n",
    "            shear1.extend(galaxy_data['shear_1'])\n",
    "            shear2.extend(galaxy_data['shear_2'])\n",
    "\n",
    "        ra_gal = np.array(ra_gal)\n",
    "        dec_gal = np.array(dec_gal)\n",
    "        z_gal = np.array(z_gal)\n",
    "        kappa = np.array(kappa)\n",
    "        shear1 = np.array(shear1)\n",
    "        shear2 = np.array(shear2)\n",
    "        chi_s = skycosmology.comoving_distance(z_gal).value * h #this step takes some time, Mpc/h\n",
    "\n",
    "        ### Clusters within each pixel_id\n",
    "        cluster_data = sky_02_1[sky_02_1['pixel_id'] == hpix]\n",
    "        halo_id_list = cluster_data['halo_id']\n",
    "        nhalo = len(cluster_data)\n",
    "        # print(nhalo) #len(ra_gal),\n",
    "        \n",
    "        pixel_results = []\n",
    "        \n",
    "        ## Compute the lensing signal for each cluster\n",
    "        for i in (halo_id_list):\n",
    "            \n",
    "            haloid = i\n",
    "            ra_cl = float(sky_02_1['ra'][sky_02_1['halo_id']==i])\n",
    "            dec_cl = float(sky_02_1['dec'][sky_02_1['halo_id']==i])\n",
    "            z_cl = float(sky_02_1['redshift'][sky_02_1['halo_id']==i])\n",
    "            chi_l = float(sky_02_1['comoving_dis'][sky_02_1['halo_id']==i])  # Mpc/h\n",
    "\n",
    "            sel = (z_gal > z_cl + 0.1) & (z_gal < 2 * z_cl)\n",
    "            ra_gal_sel = ra_gal[sel] \n",
    "            dec_gal_sel = dec_gal[sel]\n",
    "            chi_s_sel = chi_s[sel]\n",
    "\n",
    "            c1 = SkyCoord(ra_gal_sel, dec_gal_sel, unit='degree')\n",
    "            c2 = SkyCoord(ra_cl, dec_cl, unit='degree')\n",
    "            sep = c1.separation(c2).degree\n",
    "\n",
    "            pa = c1.position_angle(c2).rad\n",
    "            # chi_l = skysim.comoving_distance(z_cl).value * h #Replace this with the present column in the data to reduce computation time\n",
    "\n",
    "\n",
    "            Sigma_crit = (c**2 /(4 * np.pi* G)) * ((chi_s_sel * (1+ z_cl)) / (chi_l * (chi_s_sel - chi_l)))\n",
    "\n",
    "            w = Sigma_crit**(-2)\n",
    "            Sigma = kappa[sel] * Sigma_crit\n",
    "\n",
    "            gammat = + shear1[sel] * np.cos(-2*pa) - shear2[sel] * np.sin(-2*pa)\n",
    "            DS = gammat * Sigma_crit\n",
    "\n",
    "            rp = sep * np.pi / 180. * chi_l / (1 + z_cl)  #Mpc/h\n",
    "\n",
    "            # making profiles\n",
    "            nbins = 15\n",
    "            rp_bins = np.logspace(-1, 2, nbins+1) # pMpc\n",
    "            mean_Sigma = np.zeros(nbins)\n",
    "            mean_rp = np.zeros(nbins)\n",
    "            mean_DS = np.zeros(nbins)\n",
    "            for ibin in range(nbins):\n",
    "                sel = (rp > rp_bins[ibin])&(rp <= rp_bins[ibin+1])\n",
    "                mean_Sigma[ibin] = np.sum(Sigma[sel]*w[sel])/np.sum(w[sel])\n",
    "                mean_rp[ibin] = np.sum(rp[sel]*w[sel])/np.sum(w[sel])\n",
    "                mean_DS[ibin] = np.sum(DS[sel]*w[sel])/np.sum(w[sel])\n",
    "                \n",
    "            pixel_results.append({'halo_id': haloid,\n",
    "                                  'radius': mean_rp.tolist(),\n",
    "                                  'sigma': mean_Sigma.tolist(),\n",
    "                                  'DS': mean_DS.tolist()})\n",
    "        pixel_df = pd.DataFrame(pixel_results)\n",
    "        # pixel_df.to_pickle(file_path + 'clusters-skysim/skysim-{}.csv'.format(hpix))\n",
    "\n",
    "    print('Done!!!')"
   ]
  },
  {
   "cell_type": "code",
   "execution_count": 45,
   "id": "f37c045c-5588-4ce2-816e-3448cf2407b6",
   "metadata": {
    "tags": []
   },
   "outputs": [
    {
     "name": "stdout",
     "output_type": "stream",
     "text": [
      "Done!!!\n"
     ]
    }
   ],
   "source": [
    "procs = 1\n",
    "df_chunks = np.array_split(np.unique(sky_02_1['pixel_id']) ,procs)\n",
    "# df_chunks\n",
    "if __name__ == '__main__':\n",
    "    with Pool(processes=procs) as p:\n",
    "        p.map(wlsignal, df_chunks)"
   ]
  },
  {
   "cell_type": "code",
   "execution_count": null,
   "id": "80ac0d0c-2366-49d7-8b87-51eba9f53b0f",
   "metadata": {},
   "outputs": [],
   "source": []
  },
  {
   "cell_type": "code",
   "execution_count": 7,
   "id": "5c39eb02-1ab0-4394-91eb-316421c83e04",
   "metadata": {},
   "outputs": [
    {
     "data": {
      "image/png": "[encoded data removed]",
      "text/plain": [
       "<Figure size 432x288 with 1 Axes>"
      ]
     },
     "metadata": {
      "needs_background": "light"
     },
     "output_type": "display_data"
    }
   ],
   "source": [
    "plt.loglog(combined_csv['radius'].mean(),combined_csv['DS'].mean(axis=0))\n",
    "plt.show()"
   ]
  },
  {
   "cell_type": "code",
   "execution_count": 8,
   "id": "b2547276-703e-4586-a58d-2fb1eb88fc09",
   "metadata": {},
   "outputs": [
    {
     "data": {
      "image/png": "[encoded data removed]",
      "text/plain": [
       "<Figure size 432x288 with 1 Axes>"
      ]
     },
     "metadata": {
      "needs_background": "light"
     },
     "output_type": "display_data"
    }
   ],
   "source": [
    "plt.loglog(combined_csv['radius'].mean(),combined_csv['sigma'].mean())\n",
    "plt.show()"
   ]
  },
  {
   "cell_type": "markdown",
   "id": "5460b1ed-048a-4fb7-997c-3eabf6fae2ff",
   "metadata": {},
   "source": [
    "# Merging files"
   ]
  },
  {
   "cell_type": "code",
   "execution_count": 43,
   "id": "4c2fc76f-a3dc-494d-8e2b-ff88a94cc2df",
   "metadata": {
    "tags": []
   },
   "outputs": [
    {
     "name": "stdout",
     "output_type": "stream",
     "text": [
      "All files in /global/u1/k/kamau/SE-CLMM-LSSTDESC/project-1/Data/clusters-skysim/ deleted successfully.\n"
     ]
    }
   ],
   "source": [
    "# filepath = r'/global/u1/k/kamau/SE-CLMM-LSSTDESC/project-1/Data/clusters-skysim/'\n",
    "# def delete_all_files_in_folder(folder_path):\n",
    "#     try:\n",
    "#         # List all items in the folder\n",
    "#         folder_items = os.listdir(folder_path)\n",
    "        \n",
    "#         # Construct full paths for each item\n",
    "#         items_full_paths = [os.path.join(folder_path, item) for item in folder_items]\n",
    "\n",
    "#         # Delete each file\n",
    "#         for item_path in items_full_paths:\n",
    "#             if os.path.isfile(item_path):\n",
    "#                 os.remove(item_path)\n",
    "        \n",
    "#         print(f\"All files in {folder_path} deleted successfully.\")\n",
    "    \n",
    "#     except Exception as e:\n",
    "#         print(f\"An error occurred while deleting files in {folder_path}: {e}\")\n",
    "\n",
    "\n",
    "# delete_all_files_in_folder(filepath)"
   ]
  },
  {
   "cell_type": "code",
   "execution_count": 13,
   "id": "77a8359a-21cf-48e8-8ad4-b5c4d06d15d8",
   "metadata": {
    "tags": []
   },
   "outputs": [
    {
     "data": {
      "text/plain": [
       "'/global/u1/k/kamau/SE-CLMM-LSSTDESC/project-1/Data/'"
      ]
     },
     "execution_count": 13,
     "metadata": {},
     "output_type": "execute_result"
    }
   ],
   "source": [
    "file_path"
   ]
  },
  {
   "cell_type": "code",
   "execution_count": 3,
   "id": "6ea596c9-212a-422f-91a7-600d47af3791",
   "metadata": {},
   "outputs": [
    {
     "name": "stdout",
     "output_type": "stream",
     "text": [
      "1580\n",
      "2152757\n"
     ]
    }
   ],
   "source": [
    "all_filenames = [i for i in glob.glob(file_path+ 'clusters-skysim/skysim-*.csv'.format('csv'))]\n",
    "print(len(all_filenames))\n",
    "combined_csv = pd.concat([pd.read_pickle(f).reset_index(drop=True) for f in all_filenames])\n",
    "print(len(combined_csv))"
   ]
  },
  {
   "cell_type": "code",
   "execution_count": 21,
   "id": "9149be97-b9fe-4eae-a2c8-52e9839d21ad",
   "metadata": {},
   "outputs": [
    {
     "name": "stdout",
     "output_type": "stream",
     "text": [
      "2152757\n"
     ]
    },
    {
     "data": {
      "text/html": [
       "<div>\n",
       "<style scoped>\n",
       "    .dataframe tbody tr th:only-of-type {\n",
       "        vertical-align: middle;\n",
       "    }\n",
       "\n",
       "    .dataframe tbody tr th {\n",
       "        vertical-align: top;\n",
       "    }\n",
       "\n",
       "    .dataframe thead th {\n",
       "        text-align: right;\n",
       "    }\n",
       "</style>\n",
       "<table border=\"1\" class=\"dataframe\">\n",
       "  <thead>\n",
       "    <tr style=\"text-align: right;\">\n",
       "      <th></th>\n",
       "      <th>baseDC2/sod_halo_mass</th>\n",
       "      <th>baseDC2/sod_halo_radius</th>\n",
       "      <th>redshift</th>\n",
       "      <th>dec</th>\n",
       "      <th>magnification</th>\n",
       "      <th>hostHaloMass</th>\n",
       "      <th>ra</th>\n",
       "      <th>halo_id</th>\n",
       "      <th>halo_mass</th>\n",
       "      <th>pixel_id</th>\n",
       "      <th>comoving_dis</th>\n",
       "      <th>Angular_dis</th>\n",
       "      <th>radius</th>\n",
       "      <th>sigma</th>\n",
       "      <th>DS</th>\n",
       "    </tr>\n",
       "  </thead>\n",
       "  <tbody>\n",
       "    <tr>\n",
       "      <th>0</th>\n",
       "      <td>2.657907e+13</td>\n",
       "      <td>0.544625</td>\n",
       "      <td>0.201397</td>\n",
       "      <td>-40.048467</td>\n",
       "      <td>0.997962</td>\n",
       "      <td>2.996808e+13</td>\n",
       "      <td>0.722143</td>\n",
       "      <td>21510048411</td>\n",
       "      <td>4.220856e+13</td>\n",
       "      <td>10048</td>\n",
       "      <td>578.542239</td>\n",
       "      <td>481.558077</td>\n",
       "      <td>[0.1308730625060924, 0.20814712387717377, 0.33...</td>\n",
       "      <td>[115148363120795.56, 51872210454439.24, 229531...</td>\n",
       "      <td>[-130550254502468.84, -76217790266760.5, -3994...</td>\n",
       "    </tr>\n",
       "    <tr>\n",
       "      <th>1</th>\n",
       "      <td>1.219647e+13</td>\n",
       "      <td>0.420254</td>\n",
       "      <td>0.202359</td>\n",
       "      <td>-39.682840</td>\n",
       "      <td>0.997031</td>\n",
       "      <td>1.328618e+13</td>\n",
       "      <td>0.668087</td>\n",
       "      <td>25010048411</td>\n",
       "      <td>1.871292e+13</td>\n",
       "      <td>10048</td>\n",
       "      <td>581.180475</td>\n",
       "      <td>483.367013</td>\n",
       "      <td>[0.13261201512396317, 0.20923342305629689, 0.3...</td>\n",
       "      <td>[7445362739885.1875, 8543016543686.46, -375534...</td>\n",
       "      <td>[-51159678940917.43, -21245333215964.383, -223...</td>\n",
       "    </tr>\n",
       "    <tr>\n",
       "      <th>2</th>\n",
       "      <td>3.727315e+13</td>\n",
       "      <td>0.609587</td>\n",
       "      <td>0.201278</td>\n",
       "      <td>-41.671626</td>\n",
       "      <td>0.997201</td>\n",
       "      <td>4.826852e+13</td>\n",
       "      <td>0.013165</td>\n",
       "      <td>25410048411</td>\n",
       "      <td>6.798383e+13</td>\n",
       "      <td>10048</td>\n",
       "      <td>578.216572</td>\n",
       "      <td>481.334566</td>\n",
       "      <td>[0.13437702148667455, 0.21206787125180884, 0.3...</td>\n",
       "      <td>[98287762786790.84, 51371879042919.66, -144157...</td>\n",
       "      <td>[-171453712604657.56, -101776907593780.67, -73...</td>\n",
       "    </tr>\n",
       "  </tbody>\n",
       "</table>\n",
       "</div>"
      ],
      "text/plain": [
       "   baseDC2/sod_halo_mass  baseDC2/sod_halo_radius  redshift        dec  \\\n",
       "0           2.657907e+13                 0.544625  0.201397 -40.048467   \n",
       "1           1.219647e+13                 0.420254  0.202359 -39.682840   \n",
       "2           3.727315e+13                 0.609587  0.201278 -41.671626   \n",
       "\n",
       "   magnification  hostHaloMass        ra      halo_id     halo_mass  pixel_id  \\\n",
       "0       0.997962  2.996808e+13  0.722143  21510048411  4.220856e+13     10048   \n",
       "1       0.997031  1.328618e+13  0.668087  25010048411  1.871292e+13     10048   \n",
       "2       0.997201  4.826852e+13  0.013165  25410048411  6.798383e+13     10048   \n",
       "\n",
       "   comoving_dis  Angular_dis  \\\n",
       "0    578.542239   481.558077   \n",
       "1    581.180475   483.367013   \n",
       "2    578.216572   481.334566   \n",
       "\n",
       "                                              radius  \\\n",
       "0  [0.1308730625060924, 0.20814712387717377, 0.33...   \n",
       "1  [0.13261201512396317, 0.20923342305629689, 0.3...   \n",
       "2  [0.13437702148667455, 0.21206787125180884, 0.3...   \n",
       "\n",
       "                                               sigma  \\\n",
       "0  [115148363120795.56, 51872210454439.24, 229531...   \n",
       "1  [7445362739885.1875, 8543016543686.46, -375534...   \n",
       "2  [98287762786790.84, 51371879042919.66, -144157...   \n",
       "\n",
       "                                                  DS  \n",
       "0  [-130550254502468.84, -76217790266760.5, -3994...  \n",
       "1  [-51159678940917.43, -21245333215964.383, -223...  \n",
       "2  [-171453712604657.56, -101776907593780.67, -73...  "
      ]
     },
     "execution_count": 21,
     "metadata": {},
     "output_type": "execute_result"
    }
   ],
   "source": [
    "merged_halos = sky_02_1.to_pandas().merge(combined_csv, how='left', on='halo_id')\n",
    "print(len(merged_halos))\n",
    "merged_halos[:3]"
   ]
  },
  {
   "cell_type": "code",
   "execution_count": 22,
   "id": "02cdbef7-ab33-46b2-8781-e94350371abf",
   "metadata": {
    "tags": []
   },
   "outputs": [],
   "source": [
    "merged_halos['DS'] = merged_halos['DS'].apply(np.array)\n",
    "merged_halos['sigma'] = merged_halos['sigma'].apply(np.array)\n",
    "merged_halos['radius'] = merged_halos['radius'].apply(np.array)"
   ]
  },
  {
   "cell_type": "code",
   "execution_count": 24,
   "id": "bd1ee10d-55f7-48d0-9d4c-2a30935bf87b",
   "metadata": {},
   "outputs": [],
   "source": [
    "# merged_halos.to_pickle('/global/u1/k/kamau/SE-CLMM-LSSTDESC/project-1/Data/WL-Signal/skysim-full-DS_S-2152757.csv')"
   ]
  },
  {
   "cell_type": "code",
   "execution_count": 38,
   "id": "99f47ff6-8d76-4cbd-8315-d9c9842dff1e",
   "metadata": {},
   "outputs": [],
   "source": [
    "# col = lambda x: np.unique(len(x))\n",
    "# [col(full[cols]) for cols in full.columns]"
   ]
  },
  {
   "cell_type": "code",
   "execution_count": 32,
   "id": "1269df7b-cb52-4bc8-9dbd-e63f0b3c6fdd",
   "metadata": {},
   "outputs": [],
   "source": [
    "halos_100 = pd.read_pickle(file_path+ 'Done-SkySim/skysim-1897091.csv')"
   ]
  },
  {
   "cell_type": "code",
   "execution_count": 33,
   "id": "06a0f7ef-aa4d-466e-a377-97d79cbfaec7",
   "metadata": {},
   "outputs": [],
   "source": [
    "full_catalog = pd.concat([halos_100,merged_halos], ignore_index=True)"
   ]
  },
  {
   "cell_type": "code",
   "execution_count": 34,
   "id": "2fa1128e-5745-4c84-9396-0ba75f8ce479",
   "metadata": {},
   "outputs": [
    {
     "data": {
      "text/plain": [
       "(1897091, 255666, 2152757, (2152757, 13))"
      ]
     },
     "execution_count": 34,
     "metadata": {},
     "output_type": "execute_result"
    }
   ],
   "source": [
    "len(halos_100['halo_id']), len(merged_halos['halo_id']), len(sky_02_1['halo_id']), full_catalog.shape"
   ]
  },
  {
   "cell_type": "code",
   "execution_count": 20,
   "id": "4e2309c8-4d51-4b76-8bb3-12ce4656eef1",
   "metadata": {},
   "outputs": [
    {
     "name": "stdout",
     "output_type": "stream",
     "text": [
      "255666\n"
     ]
    }
   ],
   "source": [
    "# ## Filter out the dones halos\n",
    "# sky_02_1_filtered = sky_02_1.to_pandas()[~pd.Series(sky_02_1['halo_id']).isin(list(halos_100['halo_id']))]\n",
    "# print(len(sky_02_1_filtered))"
   ]
  },
  {
   "cell_type": "code",
   "execution_count": 21,
   "id": "f5fe66f5-2138-4f3d-b462-c36cce2f1c3e",
   "metadata": {},
   "outputs": [
    {
     "data": {
      "text/html": [
       "<div>\n",
       "<style scoped>\n",
       "    .dataframe tbody tr th:only-of-type {\n",
       "        vertical-align: middle;\n",
       "    }\n",
       "\n",
       "    .dataframe tbody tr th {\n",
       "        vertical-align: top;\n",
       "    }\n",
       "\n",
       "    .dataframe thead th {\n",
       "        text-align: right;\n",
       "    }\n",
       "</style>\n",
       "<table border=\"1\" class=\"dataframe\">\n",
       "  <thead>\n",
       "    <tr style=\"text-align: right;\">\n",
       "      <th></th>\n",
       "      <th>baseDC2/sod_halo_mass</th>\n",
       "      <th>baseDC2/sod_halo_radius</th>\n",
       "      <th>redshift</th>\n",
       "      <th>dec</th>\n",
       "      <th>magnification</th>\n",
       "      <th>hostHaloMass</th>\n",
       "      <th>ra</th>\n",
       "      <th>halo_id</th>\n",
       "      <th>halo_mass</th>\n",
       "      <th>pixel_id</th>\n",
       "    </tr>\n",
       "  </thead>\n",
       "  <tbody>\n",
       "    <tr>\n",
       "      <th>46482</th>\n",
       "      <td>4.330117e+13</td>\n",
       "      <td>0.789746</td>\n",
       "      <td>0.915048</td>\n",
       "      <td>-43.003122</td>\n",
       "      <td>0.986949</td>\n",
       "      <td>4.127854e+13</td>\n",
       "      <td>-0.00110</td>\n",
       "      <td>1107810176253</td>\n",
       "      <td>5.813880e+13</td>\n",
       "      <td>10303</td>\n",
       "    </tr>\n",
       "    <tr>\n",
       "      <th>92290</th>\n",
       "      <td>2.328602e+13</td>\n",
       "      <td>0.622234</td>\n",
       "      <td>0.697223</td>\n",
       "      <td>-44.798049</td>\n",
       "      <td>1.014469</td>\n",
       "      <td>2.839578e+13</td>\n",
       "      <td>2.98636</td>\n",
       "      <td>467510305286</td>\n",
       "      <td>3.999405e+13</td>\n",
       "      <td>10428</td>\n",
       "    </tr>\n",
       "    <tr>\n",
       "      <th>92296</th>\n",
       "      <td>8.260337e+12</td>\n",
       "      <td>0.440673</td>\n",
       "      <td>0.707876</td>\n",
       "      <td>-44.989679</td>\n",
       "      <td>1.015741</td>\n",
       "      <td>7.881714e+12</td>\n",
       "      <td>3.00811</td>\n",
       "      <td>653610305286</td>\n",
       "      <td>1.110101e+13</td>\n",
       "      <td>10429</td>\n",
       "    </tr>\n",
       "  </tbody>\n",
       "</table>\n",
       "</div>"
      ],
      "text/plain": [
       "       baseDC2/sod_halo_mass  baseDC2/sod_halo_radius  redshift        dec  \\\n",
       "46482           4.330117e+13                 0.789746  0.915048 -43.003122   \n",
       "92290           2.328602e+13                 0.622234  0.697223 -44.798049   \n",
       "92296           8.260337e+12                 0.440673  0.707876 -44.989679   \n",
       "\n",
       "       magnification  hostHaloMass       ra        halo_id     halo_mass  \\\n",
       "46482       0.986949  4.127854e+13 -0.00110  1107810176253  5.813880e+13   \n",
       "92290       1.014469  2.839578e+13  2.98636   467510305286  3.999405e+13   \n",
       "92296       1.015741  7.881714e+12  3.00811   653610305286  1.110101e+13   \n",
       "\n",
       "       pixel_id  \n",
       "46482     10303  \n",
       "92290     10428  \n",
       "92296     10429  "
      ]
     },
     "execution_count": 21,
     "metadata": {},
     "output_type": "execute_result"
    }
   ],
   "source": [
    "sky_02_1_filtered[:3]"
   ]
  },
  {
   "cell_type": "code",
   "execution_count": 23,
   "id": "4f5e57f0-7f50-4cb4-8127-b7a191489c44",
   "metadata": {},
   "outputs": [],
   "source": [
    "sky_02_1_filtered = Table.from_pandas(sky_02_1_filtered)"
   ]
  },
  {
   "cell_type": "code",
   "execution_count": 24,
   "id": "58a66e49-0775-402a-aaf5-8f5d8fa4966b",
   "metadata": {},
   "outputs": [],
   "source": [
    "# sky_02_1_filtered.write('/global/u1/k/kamau/SE-CLMM-LSSTDESC/cosmoDC2/Data/halos/sky_02_1_255666.dat', format='ascii')"
   ]
  },
  {
   "cell_type": "code",
   "execution_count": 10,
   "id": "85dcec1a-4af2-4fe7-9280-6a0c68ab4090",
   "metadata": {},
   "outputs": [],
   "source": [
    "sky_02_1_filtered = Table.read('/global/u1/k/kamau/SE-CLMM-LSSTDESC/cosmoDC2/Data/halos/sky_02_1_255666.dat', format='ascii')"
   ]
  },
  {
   "cell_type": "code",
   "execution_count": 11,
   "id": "634dc52d-def8-43c7-8640-fb04bfdad8f3",
   "metadata": {},
   "outputs": [
    {
     "data": {
      "text/plain": [
       "255666"
      ]
     },
     "execution_count": 11,
     "metadata": {},
     "output_type": "execute_result"
    }
   ],
   "source": [
    "len(sky_02_1_filtered)"
   ]
  },
  {
   "cell_type": "code",
   "execution_count": null,
   "id": "a37ba332-c627-4b34-9dec-11c60dafcaed",
   "metadata": {},
   "outputs": [],
   "source": []
  }
 ],
 "metadata": {
  "kernelspec": {
   "display_name": "desc-python",
   "language": "python",
   "name": "desc-python"
  },
  "language_info": {
   "codemirror_mode": {
    "name": "ipython",
    "version": 3
   },
   "file_extension": ".py",
   "mimetype": "text/x-python",
   "name": "python",
   "nbconvert_exporter": "python",
   "pygments_lexer": "ipython3",
   "version": "3.8.8"
  }
 },
 "nbformat": 4,
 "nbformat_minor": 5
}
