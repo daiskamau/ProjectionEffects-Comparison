{
 "cells": [
  {
   "cell_type": "code",
   "execution_count": 1,
   "id": "9d944491-7237-48fb-b49a-f6ec7a5de0cf",
   "metadata": {},
   "outputs": [],
   "source": [
    "import glob,os\n",
    "import numpy as np\n",
    "import pandas as pd\n",
    "\n",
    "\n",
    "import GCRCatalogs as gcr\n",
    "import healpy as hp\n",
    "\n",
    "import astropy\n",
    "from fitsio import FITS\n",
    "from astropy.table import Table, setdiff, vstack, join_skycoord, join\n",
    "from astropy.coordinates import SkyCoord\n",
    "import astropy.units as u\n",
    "\n",
    "import matplotlib.pyplot as plt\n",
    "plt.style.use('MNRAS.mplstyle')\n",
    "\n",
    "file_path = r\"/global/u1/k/kamau/SE-CLMM-LSSTDESC/project-1/Data/\""
   ]
  },
  {
   "cell_type": "markdown",
   "id": "e7fa62dc-9255-49c7-b22d-7711a120007d",
   "metadata": {},
   "source": [
    "## Load the redMaPPer catalog"
   ]
  },
  {
   "cell_type": "code",
   "execution_count": 11,
   "id": "d75617e8-d3ec-4458-b04a-497208a9fdcd",
   "metadata": {},
   "outputs": [
    {
     "name": "stdout",
     "output_type": "stream",
     "text": [
      "46491 2381320\n"
     ]
    }
   ],
   "source": [
    "redmapper = gcr.load_catalog('skysim5000_v1.1.1_redmapper_v0.8.5')\n",
    "redmapper_cl = Table(redmapper.get_quantities(['cluster_id','ra','dec','redshift','richness','clusters/z_lambda','clusters/mem_match_id'])) #46491\n",
    "redmapper_me = Table(redmapper.get_quantities(['cluster_id_member','dec_member','ra_member','p_member'])) #2381320\n",
    "print(len(redmapper_cl), len(redmapper_me))"
   ]
  },
  {
   "cell_type": "code",
   "execution_count": 12,
   "id": "e57ba800-dc68-44b9-8514-b84c32a9ba60",
   "metadata": {
    "tags": []
   },
   "outputs": [
    {
     "data": {
      "text/plain": [
       "(0.08654202, 1.1269356)"
      ]
     },
     "execution_count": 12,
     "metadata": {},
     "output_type": "execute_result"
    }
   ],
   "source": [
    "redmapper_cl['redshift'].min(), redmapper_cl['redshift'].max()"
   ]
  },
  {
   "cell_type": "code",
   "execution_count": 8,
   "id": "6bc26cc5-94ea-4148-ae02-7f39dd765830",
   "metadata": {
    "tags": []
   },
   "outputs": [
    {
     "name": "stdout",
     "output_type": "stream",
     "text": [
      "38630\n"
     ]
    },
    {
     "data": {
      "text/html": [
       "<i>Table length=20</i>\n",
       "<table id=\"table140550974647216\" class=\"table-striped table-bordered table-condensed\">\n",
       "<thead><tr><th>dec</th><th>richness</th><th>redshift</th><th>clusters/z_lambda</th><th>ra</th><th>cluster_id</th><th>clusters/mem_match_id</th><th>redshift_range</th><th>lambda_range</th></tr></thead>\n",
       "<thead><tr><th>int64</th><th>int64</th><th>int64</th><th>int64</th><th>int64</th><th>int64</th><th>int64</th><th>object</th><th>object</th></tr></thead>\n",
       "<tr><td>2381</td><td>2381</td><td>2381</td><td>2381</td><td>2381</td><td>2381</td><td>2381</td><td>(0.2,0.35]</td><td>(20,30]</td></tr>\n",
       "<tr><td>1311</td><td>1311</td><td>1311</td><td>1311</td><td>1311</td><td>1311</td><td>1311</td><td>(0.2,0.35]</td><td>(30,45]</td></tr>\n",
       "<tr><td>523</td><td>523</td><td>523</td><td>523</td><td>523</td><td>523</td><td>523</td><td>(0.2,0.35]</td><td>(45,60]</td></tr>\n",
       "<tr><td>599</td><td>599</td><td>599</td><td>599</td><td>599</td><td>599</td><td>599</td><td>(0.2,0.35]</td><td>(60,500]</td></tr>\n",
       "<tr><td>4046</td><td>4046</td><td>4046</td><td>4046</td><td>4046</td><td>4046</td><td>4046</td><td>(0.35, 0.5]</td><td>(20,30]</td></tr>\n",
       "<tr><td>2182</td><td>2182</td><td>2182</td><td>2182</td><td>2182</td><td>2182</td><td>2182</td><td>(0.35, 0.5]</td><td>(30,45]</td></tr>\n",
       "<tr><td>854</td><td>854</td><td>854</td><td>854</td><td>854</td><td>854</td><td>854</td><td>(0.35, 0.5]</td><td>(45,60]</td></tr>\n",
       "<tr><td>886</td><td>886</td><td>886</td><td>886</td><td>886</td><td>886</td><td>886</td><td>(0.35, 0.5]</td><td>(60,500]</td></tr>\n",
       "<tr><td>5050</td><td>5050</td><td>5050</td><td>5050</td><td>5050</td><td>5050</td><td>5050</td><td>(0.5, 0.65]</td><td>(20,30]</td></tr>\n",
       "<tr><td>2649</td><td>2649</td><td>2649</td><td>2649</td><td>2649</td><td>2649</td><td>2649</td><td>(0.5, 0.65]</td><td>(30,45]</td></tr>\n",
       "<tr><td>966</td><td>966</td><td>966</td><td>966</td><td>966</td><td>966</td><td>966</td><td>(0.5, 0.65]</td><td>(45,60]</td></tr>\n",
       "<tr><td>936</td><td>936</td><td>936</td><td>936</td><td>936</td><td>936</td><td>936</td><td>(0.5, 0.65]</td><td>(60,500]</td></tr>\n",
       "<tr><td>4390</td><td>4390</td><td>4390</td><td>4390</td><td>4390</td><td>4390</td><td>4390</td><td>(0.65, 0.8]</td><td>(20,30]</td></tr>\n",
       "<tr><td>2282</td><td>2282</td><td>2282</td><td>2282</td><td>2282</td><td>2282</td><td>2282</td><td>(0.65, 0.8]</td><td>(30,45]</td></tr>\n",
       "<tr><td>805</td><td>805</td><td>805</td><td>805</td><td>805</td><td>805</td><td>805</td><td>(0.65, 0.8]</td><td>(45,60]</td></tr>\n",
       "<tr><td>722</td><td>722</td><td>722</td><td>722</td><td>722</td><td>722</td><td>722</td><td>(0.65, 0.8]</td><td>(60,500]</td></tr>\n",
       "<tr><td>4362</td><td>4362</td><td>4362</td><td>4362</td><td>4362</td><td>4362</td><td>4362</td><td>(0.8,0.95]</td><td>(20,30]</td></tr>\n",
       "<tr><td>2311</td><td>2311</td><td>2311</td><td>2311</td><td>2311</td><td>2311</td><td>2311</td><td>(0.8,0.95]</td><td>(30,45]</td></tr>\n",
       "<tr><td>786</td><td>786</td><td>786</td><td>786</td><td>786</td><td>786</td><td>786</td><td>(0.8,0.95]</td><td>(45,60]</td></tr>\n",
       "<tr><td>589</td><td>589</td><td>589</td><td>589</td><td>589</td><td>589</td><td>589</td><td>(0.8,0.95]</td><td>(60,500]</td></tr>\n",
       "</table>"
      ],
      "text/plain": [
       "<Table length=20>\n",
       " dec  richness redshift ... clusters/mem_match_id redshift_range lambda_range\n",
       "int64  int64    int64   ...         int64             object        object   \n",
       "----- -------- -------- ... --------------------- -------------- ------------\n",
       " 2381     2381     2381 ...                  2381     (0.2,0.35]      (20,30]\n",
       " 1311     1311     1311 ...                  1311     (0.2,0.35]      (30,45]\n",
       "  523      523      523 ...                   523     (0.2,0.35]      (45,60]\n",
       "  599      599      599 ...                   599     (0.2,0.35]     (60,500]\n",
       " 4046     4046     4046 ...                  4046    (0.35, 0.5]      (20,30]\n",
       " 2182     2182     2182 ...                  2182    (0.35, 0.5]      (30,45]\n",
       "  854      854      854 ...                   854    (0.35, 0.5]      (45,60]\n",
       "  886      886      886 ...                   886    (0.35, 0.5]     (60,500]\n",
       " 5050     5050     5050 ...                  5050    (0.5, 0.65]      (20,30]\n",
       " 2649     2649     2649 ...                  2649    (0.5, 0.65]      (30,45]\n",
       "  966      966      966 ...                   966    (0.5, 0.65]      (45,60]\n",
       "  936      936      936 ...                   936    (0.5, 0.65]     (60,500]\n",
       " 4390     4390     4390 ...                  4390    (0.65, 0.8]      (20,30]\n",
       " 2282     2282     2282 ...                  2282    (0.65, 0.8]      (30,45]\n",
       "  805      805      805 ...                   805    (0.65, 0.8]      (45,60]\n",
       "  722      722      722 ...                   722    (0.65, 0.8]     (60,500]\n",
       " 4362     4362     4362 ...                  4362     (0.8,0.95]      (20,30]\n",
       " 2311     2311     2311 ...                  2311     (0.8,0.95]      (30,45]\n",
       "  786      786      786 ...                   786     (0.8,0.95]      (45,60]\n",
       "  589      589      589 ...                   589     (0.8,0.95]     (60,500]"
      ]
     },
     "execution_count": 8,
     "metadata": {},
     "output_type": "execute_result"
    }
   ],
   "source": [
    "redmapper_cl = redmapper_cl[(redmapper_cl['redshift']>=0.2) & (redmapper_cl['redshift']<=1)]\n",
    "print(len(redmapper_cl))\n",
    "zranges = [(0.2,0.35), (0.35, 0.5), (0.5, 0.65), (0.65, 0.8), (0.8,1)] #, \n",
    "lamranges = [(20,30), (30,45), (45,60), (60,500)]\n",
    "zlabels = ['(0.2,0.35]', '(0.35, 0.5]', '(0.5, 0.65]', '(0.65, 0.8]', '(0.8,0.95]'] #, '(0.8,0.95]'\n",
    "lamlabels = ['(20,30]', '(30,45]', '(45,60]', '(60,500]']\n",
    "redmapper_cl['redshift_range'] = pd.cut(redmapper_cl['redshift'], bins=[r[0] for r in zranges] + [zranges[-1][-1]], labels=zlabels)\n",
    "redmapper_cl['lambda_range'] = pd.cut(redmapper_cl['richness'], bins=[r[0] for r in lamranges] + [lamranges[-1][-1]], labels=lamlabels)\n",
    "\n",
    "grouped = redmapper_cl.group_by(['redshift_range', 'lambda_range'])\n",
    "cluster_counts = grouped.groups.aggregate(len)\n",
    "cluster_counts"
   ]
  },
  {
   "cell_type": "code",
   "execution_count": null,
   "id": "d8b879aa-779a-49ae-b3c6-eb948e250070",
   "metadata": {},
   "outputs": [],
   "source": []
  },
  {
   "cell_type": "markdown",
   "id": "afe0db00-d3a4-4099-a11a-b85159f58f1e",
   "metadata": {},
   "source": [
    "## Load the Halos (GCR)"
   ]
  },
  {
   "cell_type": "code",
   "execution_count": 3,
   "id": "0a0bbb1f-d11f-48ae-85c5-eef3034d531c",
   "metadata": {},
   "outputs": [
    {
     "name": "stdout",
     "output_type": "stream",
     "text": [
      "2152757\n",
      "9132204\n",
      "9132204\n"
     ]
    }
   ],
   "source": [
    "# ## Sigma and DS profile\n",
    "sigma_ds_profile1 = pd.read_pickle(file_path + '/WL-Signal/skysim-full-2152757-1.1.1.csv')\n",
    "sigma_ds_profile1 = sigma_ds_profile1[(sigma_ds_profile1['redshift']>=0.2) & (sigma_ds_profile1['redshift']<=1)]\n",
    "sigma_ds_profile1 = Table.from_pandas(sigma_ds_profile1)\n",
    "sigma_ds_profile1['halo_id'] = sigma_ds_profile1['halo_id'].astype(int)\n",
    "print(len(sigma_ds_profile1))\n",
    "\n",
    "sigma_ds_profile2 = Table.read(file_path + 'halos/Skysim_SOD_Filter/skysim_0.2-1_1.1.1_SOD.dat', format='ascii')\n",
    "print(len(sigma_ds_profile2))\n",
    "print(len(sigma_ds_profile2))"
   ]
  },
  {
   "cell_type": "code",
   "execution_count": 6,
   "id": "00c0cafe-3793-44c2-abc9-60e21ba751e9",
   "metadata": {},
   "outputs": [
    {
     "data": {
      "text/plain": [
       "'2.160281e+11'"
      ]
     },
     "execution_count": 6,
     "metadata": {},
     "output_type": "execute_result"
    }
   ],
   "source": [
    " '{:e}'.format(sigma_ds_profile2['halo_mass'].min())"
   ]
  },
  {
   "cell_type": "code",
   "execution_count": 7,
   "id": "e23cd674-a952-4a34-9ae7-4a8c4e89b631",
   "metadata": {},
   "outputs": [
    {
     "name": "stdout",
     "output_type": "stream",
     "text": [
      "38630\n"
     ]
    }
   ],
   "source": [
    "redmapper_cl = redmapper_cl[(redmapper_cl['redshift']>=0.2) & (redmapper_cl['redshift']<=1)] #38284\n",
    "print(len(redmapper_cl))"
   ]
  },
  {
   "cell_type": "code",
   "execution_count": 8,
   "id": "e17d09ff-30df-4ed8-babd-726f054f973f",
   "metadata": {},
   "outputs": [
    {
     "name": "stdout",
     "output_type": "stream",
     "text": [
      "33345\n",
      "5285\n",
      "9098859\n"
     ]
    }
   ],
   "source": [
    "perfect_match2 = join(redmapper_cl, sigma_ds_profile2, join_type='inner', keys=['dec','ra'])\n",
    "print(len(perfect_match2))\n",
    "unmatchedRedCl = redmapper_cl[~np.isin(redmapper_cl['cluster_id'],perfect_match2['cluster_id'])] # 5092\n",
    "print(len(unmatchedRedCl))\n",
    "unmatchedhalos = sigma_ds_profile2[~np.isin(sigma_ds_profile2['halo_id'],perfect_match2['halo_id'])]\n",
    "print(len(unmatchedhalos))"
   ]
  },
  {
   "cell_type": "markdown",
   "id": "5bd52b1f-6d5c-4002-8af7-c448edcc7037",
   "metadata": {},
   "source": [
    "## Setting tolerance for matching the remaining RedMaPPer clusters with halos"
   ]
  },
  {
   "cell_type": "code",
   "execution_count": 9,
   "id": "136a89fe-85fa-43a6-b037-f1a364cf23ab",
   "metadata": {},
   "outputs": [],
   "source": [
    "unmatchedhalos['sc'] = SkyCoord(unmatchedhalos['ra'], unmatchedhalos['dec'], unit='deg')\n",
    "unmatchedRedCl['sc'] = SkyCoord(unmatchedRedCl['ra'], unmatchedRedCl['dec'], unit='deg')"
   ]
  },
  {
   "cell_type": "code",
   "execution_count": 10,
   "id": "1f146af0-204b-4686-aeac-d7dcc24f2424",
   "metadata": {},
   "outputs": [
    {
     "name": "stdout",
     "output_type": "stream",
     "text": [
      "7853\n",
      "4850\n"
     ]
    },
    {
     "data": {
      "text/html": [
       "<i>Table length=5</i>\n",
       "<table id=\"table139662907329120\" class=\"table-striped table-bordered table-condensed\">\n",
       "<thead><tr><th>sc_id</th><th>ra_1</th><th>clusters/z_lambda</th><th>cluster_id</th><th>clusters/mem_match_id</th><th>dec_1</th><th>richness</th><th>redshift_1</th><th>sc_1</th><th>halo_id</th><th>baseDC2/sod_halo_mass</th><th>halo_mass</th><th>ra_2</th><th>dec_2</th><th>redshift_2</th><th>baseDC2/sod_halo_radius</th><th>pixel_id</th><th>sc_2</th></tr></thead>\n",
       "<thead><tr><th>int64</th><th>float64</th><th>float32</th><th>int32</th><th>int32</th><th>float64</th><th>float32</th><th>float32</th><th>object</th><th>int64</th><th>float64</th><th>float64</th><th>float64</th><th>float64</th><th>float64</th><th>float64</th><th>int64</th><th>object</th></tr></thead>\n",
       "<tr><td>1</td><td>2.896798269949837</td><td>0.5912586</td><td>1365</td><td>1365</td><td>-1.5203787028802902</td><td>87.18639</td><td>0.5912586</td><td>&lt;SkyCoord (ICRS): (ra, dec) in deg\n",
       "    (2.89679827, -1.5203787)&gt;</td><td>1175106209307</td><td>215036714811392.0</td><td>421214361548078.9</td><td>2.8949591873192695</td><td>-1.5172599429600495</td><td>0.5910195826867897</td><td>1.2696400880813599</td><td>6209</td><td>&lt;SkyCoord (ICRS): (ra, dec) in deg\n",
       "    (2.89495919, -1.51725994)&gt;</td></tr>\n",
       "<tr><td>2</td><td>3.9520044556241634</td><td>0.5922861</td><td>6286</td><td>6286</td><td>-1.2222302793974655</td><td>53.274582</td><td>0.5922861</td><td>&lt;SkyCoord (ICRS): (ra, dec) in deg\n",
       "    (3.95200446, -1.22223028)&gt;</td><td>30606209307</td><td>309910478782464.0</td><td>414362641053205.6</td><td>3.9539879408698955</td><td>-1.229060036928648</td><td>0.5917466111825231</td><td>1.4341225624084473</td><td>6209</td><td>&lt;SkyCoord (ICRS): (ra, dec) in deg\n",
       "    (3.95398794, -1.22906004)&gt;</td></tr>\n",
       "<tr><td>3</td><td>7.237337018664522</td><td>0.73358476</td><td>7309</td><td>7309</td><td>-1.7915726702320818</td><td>51.672813</td><td>0.73358476</td><td>&lt;SkyCoord (ICRS): (ra, dec) in deg\n",
       "    (7.23733702, -1.79157267)&gt;</td><td>503406338286</td><td>137055065604096.0</td><td>224705642496000.0</td><td>7.233703647140288</td><td>-1.789699135266021</td><td>0.724829526271753</td><td>1.12343430519104</td><td>6338</td><td>&lt;SkyCoord (ICRS): (ra, dec) in deg\n",
       "    (7.23370365, -1.78969914)&gt;</td></tr>\n",
       "<tr><td>4</td><td>2.131558544832236</td><td>0.24652696</td><td>9909</td><td>9909</td><td>-0.7840742485998262</td><td>43.45038</td><td>0.24652696</td><td>&lt;SkyCoord (ICRS): (ra, dec) in deg\n",
       "    (2.13155854, -0.78407425)&gt;</td><td>3127906209259</td><td>8907119394816.0</td><td>12113564213363.38</td><td>2.125421402647639</td><td>-0.7769044372884384</td><td>0.9015389790334394</td><td>0.4663834869861603</td><td>6209</td><td>&lt;SkyCoord (ICRS): (ra, dec) in deg\n",
       "    (2.1254214, -0.77690444)&gt;</td></tr>\n",
       "<tr><td>5</td><td>7.622600010501734</td><td>0.84468967</td><td>8472</td><td>8472</td><td>-1.1842702769604658</td><td>52.877953</td><td>0.84468967</td><td>&lt;SkyCoord (ICRS): (ra, dec) in deg\n",
       "    (7.62260001, -1.18427028)&gt;</td><td>2566206211266</td><td>208761079726080.0</td><td>269065074197633.8</td><td>7.624281569585428</td><td>-1.1864275777400628</td><td>0.8589438541799852</td><td>1.325057864189148</td><td>6211</td><td>&lt;SkyCoord (ICRS): (ra, dec) in deg\n",
       "    (7.62428157, -1.18642758)&gt;</td></tr>\n",
       "</table>"
      ],
      "text/plain": [
       "<Table length=5>\n",
       "sc_id ...                                sc_2                              \n",
       "int64 ...                               object                             \n",
       "----- ... -----------------------------------------------------------------\n",
       "    1 ... <SkyCoord (ICRS): (ra, dec) in deg\n",
       "    (2.89495919, -1.51725994)>\n",
       "    2 ... <SkyCoord (ICRS): (ra, dec) in deg\n",
       "    (3.95398794, -1.22906004)>\n",
       "    3 ... <SkyCoord (ICRS): (ra, dec) in deg\n",
       "    (7.23370365, -1.78969914)>\n",
       "    4 ...  <SkyCoord (ICRS): (ra, dec) in deg\n",
       "    (2.1254214, -0.77690444)>\n",
       "    5 ... <SkyCoord (ICRS): (ra, dec) in deg\n",
       "    (7.62428157, -1.18642758)>"
      ]
     },
     "execution_count": 10,
     "metadata": {},
     "output_type": "execute_result"
    }
   ],
   "source": [
    "matched_SC = join(unmatchedRedCl, unmatchedhalos, keys='sc', join_funcs={'sc': join_skycoord(0.01 * u.deg)})\n",
    "print(len(matched_SC))\n",
    "\n",
    "filtered_table = Table(names=matched_SC.colnames, dtype=matched_SC.dtype)\n",
    "\n",
    "grouped_table = matched_SC.group_by('sc_id')\n",
    "for group in grouped_table.groups:\n",
    "    if len(group) == 1:\n",
    "        filtered_table.add_row(group[0])\n",
    "    else:\n",
    "        redshift_diff = np.abs(group['redshift_1'] - np.median(group['redshift_2']))\n",
    "        min_diff_idx = np.argmin(redshift_diff)\n",
    "        filtered_table.add_row(group[min_diff_idx])\n",
    "        \n",
    "print(len(np.unique(filtered_table['clusters/mem_match_id']))) # 4998, 79687\n",
    "filtered_table[:5]"
   ]
  },
  {
   "cell_type": "code",
   "execution_count": 92,
   "id": "73111e8f-be04-4e8c-899f-7b4ea8a0e84d",
   "metadata": {
    "tags": []
   },
   "outputs": [],
   "source": [
    "# filtered_table['redshift_1','dec_1','ra_1','ra_2','dec_2','redshift_2']"
   ]
  },
  {
   "cell_type": "code",
   "execution_count": 40,
   "id": "1c5edc76-cd4e-4193-8087-d036ffce72d6",
   "metadata": {},
   "outputs": [],
   "source": [
    "filtered_table.remove_columns(['ra_1','dec_1','sc_id','sc_1','sc_2'])\n",
    "filtered_table.rename_columns(['ra_2','dec_2','redshift_2'],['ra','dec','redshift'])"
   ]
  },
  {
   "cell_type": "code",
   "execution_count": 41,
   "id": "2fbafc1f-b1e5-4815-ae25-ddc365c0577a",
   "metadata": {},
   "outputs": [
    {
     "name": "stdout",
     "output_type": "stream",
     "text": [
      "38195\n"
     ]
    }
   ],
   "source": [
    "cluster_halo = vstack([perfect_match2, filtered_table])\n",
    "print(len(cluster_halo))"
   ]
  },
  {
   "cell_type": "code",
   "execution_count": 42,
   "id": "073181ff-3acb-4fde-9b47-9436cc70fa50",
   "metadata": {},
   "outputs": [
    {
     "name": "stderr",
     "output_type": "stream",
     "text": [
      "WARNING: AstropyDeprecationWarning: /global/u1/k/kamau/SE-CLMM-LSSTDESC/project-1/Data/halos/halos_redmapper_SOD_0.2-1_SOD.dat already exists. Automatically overwriting ASCII files is deprecated. Use the argument 'overwrite=True' in the future. [astropy.io.ascii.ui]\n"
     ]
    }
   ],
   "source": [
    "# cluster_halo.write(file_path + 'halos/halos_redmapper_SOD_0.2-1_SOD.dat', format='ascii')"
   ]
  },
  {
   "cell_type": "code",
   "execution_count": 43,
   "id": "6a27298f-4fee-49e9-ae2b-8cd909a04f34",
   "metadata": {},
   "outputs": [
    {
     "name": "stdout",
     "output_type": "stream",
     "text": [
      "4465\n"
     ]
    }
   ],
   "source": [
    "print(len(cluster_halo[(cluster_halo['redshift_2']>=0.2) & (cluster_halo['redshift_2']<=0.35)]))"
   ]
  },
  {
   "cell_type": "code",
   "execution_count": null,
   "id": "b5280ebc-bb4b-4579-94ea-14c394d5ff43",
   "metadata": {},
   "outputs": [],
   "source": []
  },
  {
   "cell_type": "markdown",
   "id": "bb72465e-7a5e-4e77-b65b-0d2e31a4d1a9",
   "metadata": {},
   "source": [
    "# Method 2: Cluster-Halo Matching\n",
    "## Step 1: \n",
    "Perfect match based on the cluster and halo central coordinates which perfectly match (centered)\n",
    "## Step 2:\n",
    "<ol>\n",
    "    <li> Search for halo-cluster pairs with redshift separation Δ𝑧 ≤ 0.05 between cluster photometric redshift and true halo redshift. </li>\n",
    "    <li>  For each halo, identify those redMaPPer clusters with BCGs within a projected 2-D, comoving radius of 2ℎ−1 Mpc of\n",
    "the halo central galaxy. I used angular separation. </li> \n",
    "    <li> If there are multiple redMaPPer clusters satisfying these separation criteria, we match the halo to the richest cluster that hasn’t been previously matched.</li> \n",
    "    <li> For each cluster, we repeat this matching process, selecting halos satisfying the redshift and projected distance criteria, and then choosing the most massive such halo still on the list as the one to be associated with that cluster. </li> \n",
    "    <li> Clusters and halos that uniquely match with each other in both matching steps are considered valid matches.</li> \n",
    "</ol>"
   ]
  },
  {
   "cell_type": "code",
   "execution_count": 98,
   "id": "89336b2a-2ffd-4a84-b522-d831cd595eb7",
   "metadata": {
    "tags": []
   },
   "outputs": [],
   "source": [
    "# import astropy.units as u\n",
    "# from astropy.coordinates import SkyCoord\n",
    "# from astropy.cosmology import FlatLambdaCDM\n",
    "# skysim = gcr.load_catalog('skysim5000_v1.1.1')\n",
    "# skycosmology = skysim.cosmology\n",
    "# cosmoskysim = FlatLambdaCDM(H0=skycosmology.H0.value, Om0= skycosmology.Om0)\n",
    "\n",
    "# def calculate_physicaldist_separation(ha_z, cl_z):\n",
    "#     cluster_coords = cosmoskysim.comoving_distance(cl_z) / (1+ cl_z)\n",
    "#     halo_coords = cosmoskysim.comoving_distance(ha_z) / (1+ ha_z)\n",
    "#     separation_cl = np.abs(cluster_coords - halo_coords)\n",
    "#     separation_halo = np.abs(halo_coords - cluster_coords)\n",
    "#     return separation_cl, separation_halo\n",
    "\n",
    "# calculate_physicaldist_separation(ha_z=0.4248974370455487, cl_z = 0.43412662)[0],calculate_physicaldist_separation(cl_z=0.43412662,ha_z=0.4248974370455487)[1]"
   ]
  },
  {
   "cell_type": "code",
   "execution_count": 14,
   "id": "c1215d47-5d89-4212-9f47-f372e90c618c",
   "metadata": {
    "tags": []
   },
   "outputs": [
    {
     "data": {
      "text/latex": [
       "$0^\\circ00{}^\\prime13.0331{}^{\\prime\\prime}$"
      ],
      "text/plain": [
       "<Angle 0.00362029 deg>"
      ]
     },
     "execution_count": 14,
     "metadata": {},
     "output_type": "execute_result"
    }
   ],
   "source": [
    "import astropy.units as u\n",
    "from astropy.coordinates import SkyCoord\n",
    "\n",
    "def calculate_angular_separation(cl_ra, cl_dec, ha_ra2, ha_dec):\n",
    "    cluster_coords = SkyCoord(ra=cl_ra, dec=cl_dec, unit='deg')\n",
    "    halo_coords = SkyCoord(ra=ha_ra2, dec=ha_dec, unit='deg')\n",
    "    separation = cluster_coords.separation(halo_coords)\n",
    "    return separation\n",
    "calculate_angular_separation(cl_ra=2.896798269949837,cl_dec=-1.5203787028802902,ha_ra2=2.8949591873192695,ha_dec=-1.5172599429600495)"
   ]
  },
  {
   "cell_type": "code",
   "execution_count": 19,
   "id": "e6b7b366-0c18-4849-b448-ec6341e386f7",
   "metadata": {
    "tags": []
   },
   "outputs": [],
   "source": [
    "\n",
    "col_names = ['halo_id', 'baseDC2/sod_halo_mass', 'halo_mass', 'ra', 'dec', 'redshift_2', 'baseDC2/sod_halo_radius', 'pixel_id',\n",
    "            'clusters/mem_match_id','dec_cl','redshift_1','ra_cl','cluster_id','richness','clusters/z_lambda']\n",
    "\n",
    "data_types = ['<i8','<f8','<f8','<f8','<f8','<f8','<f8','<i8','<i4','<f8','<f4','<f8','<i4','<f4','<f4']"
   ]
  },
  {
   "cell_type": "code",
   "execution_count": 20,
   "id": "1cbba668-a423-4dc0-8ba0-f558b0dfb82f",
   "metadata": {},
   "outputs": [],
   "source": [
    "from astropy.table import join, Table\n",
    "from astropy.coordinates import SkyCoord\n",
    "from astropy import units as u\n",
    "\n",
    "def match_clusters_to_halos(redMaPPer_clusters, Halos):\n",
    "    # Perform a perfect join based on 'ra' and 'dec'\n",
    "    centered_clusters = join(redMaPPer_clusters, Halos, keys=['ra','dec'], table_names=['redMaPPer', 'Halos'])\n",
    "    \n",
    "    print(len(centered_clusters)) #, len(centered_clusters)\n",
    "    \n",
    "    # Match miscentered clusters\n",
    "    unmatched_halos = Halos[~np.isin(Halos['halo_id'],centered_clusters['halo_id'])]\n",
    "    # print(\"Number of unmatched halos:\", len(unmatched_halos))\n",
    "    sorted_indices_halos = unmatched_halos['baseDC2/sod_halo_mass'].argsort()[::-1]\n",
    "    \n",
    "    miscentered_clusters = redMaPPer_clusters[~np.isin(redMaPPer_clusters['cluster_id'],centered_clusters['cluster_id'])]\n",
    "    # print(len(miscentered_clusters))\n",
    "    sorted_indices_cl = miscentered_clusters['richness'].argsort()[::-1]\n",
    "    \n",
    "    \n",
    "    halo_clusters = []\n",
    "    \n",
    "    for index in sorted_indices_halos:\n",
    "        halo = unmatched_halos[index]\n",
    "        # Search for halos within redshift separation and projected distance range\n",
    "        delta_z = (abs(halo['redshift'] - miscentered_clusters['redshift']) <= 0.05)\n",
    "        separation = (calculate_angular_separation(cl_ra=miscentered_clusters['ra'], cl_dec=miscentered_clusters['dec'],\n",
    "                                                   ha_ra2=halo['ra'], ha_dec=halo['dec']) <= 0.01 * u.deg)\n",
    "        candidate_clusters = miscentered_clusters[delta_z & separation]\n",
    "        \n",
    "        halo_clusters = []\n",
    "        if len(candidate_clusters)>0:\n",
    "            matched_clusters = candidate_clusters[candidate_clusters['richness'].argmax()]\n",
    "            # print(matched_clusters)\n",
    "            # print(halo)\n",
    "            matched_clusters = np.array(list(matched_clusters))\n",
    "            halo = np.array(list(halo))\n",
    "            halo_clusters.append(np.hstack((halo,matched_clusters)))\n",
    "        \n",
    "\n",
    "    for index in sorted_indices_cl:\n",
    "        cluster = miscentered_clusters[index]\n",
    "        # Search for halos within redshift separation and projected distance range\n",
    "        delta_z = (abs(cluster['redshift'] - unmatched_halos['redshift']) <= 0.05)\n",
    "        separation = (calculate_angular_separation(cl_ra=cluster['ra'], cl_dec=cluster['dec'],\n",
    "                                                   ha_ra2=unmatched_halos['ra'], ha_dec=unmatched_halos['dec']) <= 0.01 * u.deg)\n",
    "        candidate_halos = unmatched_halos[delta_z & separation]\n",
    "        \n",
    "        if len(candidate_halos)>0:\n",
    "            matched_halos = candidate_halos[candidate_halos['baseDC2/sod_halo_mass'].argmax()]\n",
    "            # print(cluster['ra','dec','redshift'])\n",
    "            # print(matched_halos['ra','dec','redshift'])\n",
    "            matched_halos = np.array(list(matched_halos))\n",
    "            cluster = np.array(list(cluster))\n",
    "            halo_clusters.append(np.hstack((matched_halos, cluster)))\n",
    "            \n",
    "    # print(halo_clusters)\n",
    "    \n",
    "    matching_2 = Table(rows=halo_clusters, names=col_names, dtype=data_types)\n",
    "        \n",
    "    print(len(matching_2))\n",
    "    \n",
    "    return matching_2  #4579\n"
   ]
  },
  {
   "cell_type": "code",
   "execution_count": 21,
   "id": "a01733ae-edbb-4d30-8243-c8d8b2ad2630",
   "metadata": {},
   "outputs": [],
   "source": [
    "# match_clusters_to_halos(redmapper_cl, sigma_ds_profile2)"
   ]
  },
  {
   "cell_type": "code",
   "execution_count": 22,
   "id": "34508ac1-a149-4257-ac74-288b5a675cbb",
   "metadata": {
    "tags": []
   },
   "outputs": [
    {
     "name": "stdout",
     "output_type": "stream",
     "text": [
      "33345\n",
      "4579\n"
     ]
    }
   ],
   "source": [
    "matching_2 = match_clusters_to_halos(redmapper_cl, sigma_ds_profile2)"
   ]
  },
  {
   "cell_type": "code",
   "execution_count": null,
   "id": "7f8cbd79-e1db-4617-af09-dafbac69f083",
   "metadata": {},
   "outputs": [],
   "source": [
    "# centered = match_clusters_to_halos(redmapper_cl, sigma_ds_profile2)[0]"
   ]
  },
  {
   "cell_type": "code",
   "execution_count": 26,
   "id": "533c66b4-468f-4758-96a1-b5f34c1ff915",
   "metadata": {
    "tags": []
   },
   "outputs": [
    {
     "data": {
      "text/html": [
       "<i>Table length=5</i>\n",
       "<table id=\"table139858436566944\" class=\"table-striped table-bordered table-condensed\">\n",
       "<thead><tr><th>halo_id</th><th>baseDC2/sod_halo_mass</th><th>halo_mass</th><th>ra</th><th>dec</th><th>redshift</th><th>baseDC2/sod_halo_radius</th><th>pixel_id</th><th>redshift_cl</th><th>ra_cl</th><th>dec_cl</th><th>clusters/mem_match_id</th><th>clusters/z_lambda</th><th>cluster_id</th><th>richness</th></tr></thead>\n",
       "<thead><tr><th>int64</th><th>float64</th><th>float64</th><th>float64</th><th>float64</th><th>float64</th><th>float64</th><th>int64</th><th>float32</th><th>float64</th><th>float64</th><th>int32</th><th>float32</th><th>int32</th><th>float32</th></tr></thead>\n",
       "<tr><td>387810675347</td><td>946464561823744.0</td><td>1659895028213904.2</td><td>36.64702595786081</td><td>-48.635476906871524</td><td>0.40586065171152885</td><td>1.9710586071014404</td><td>10675</td><td>0.40834615</td><td>36.651313882479684</td><td>-48.635005704808485</td><td>8</td><td>0.40834615</td><td>8</td><td>283.30435</td></tr>\n",
       "<tr><td>152507764373</td><td>1099301174378496.0</td><td>1876985964965138.0</td><td>56.2051982276388</td><td>-15.572899560512406</td><td>0.31597800409397614</td><td>1.9939948320388794</td><td>7764</td><td>0.31853953</td><td>56.20271992052518</td><td>-15.563425078600355</td><td>18</td><td>0.31853953</td><td>18</td><td>268.15616</td></tr>\n",
       "<tr><td>1929211529307</td><td>632555132944384.0</td><td>900082137197611.4</td><td>7.786037584145139</td><td>-60.874670498078295</td><td>0.595378021938449</td><td>1.8191717863082886</td><td>11449</td><td>0.60669804</td><td>7.7897354641804695</td><td>-60.88114179393029</td><td>37</td><td>0.60669804</td><td>37</td><td>259.3693</td></tr>\n",
       "<tr><td>1077508897331</td><td>606560044711936.0</td><td>963326664865532.5</td><td>4.073002035134848</td><td>-26.51228821876606</td><td>0.47609839213312743</td><td>1.7393486499786377</td><td>8897</td><td>0.48064712</td><td>4.068888662939389</td><td>-26.514320998633462</td><td>29</td><td>0.48064712</td><td>29</td><td>259.0337</td></tr>\n",
       "<tr><td>901711205323</td><td>368588422643712.0</td><td>565778905843740.9</td><td>84.73005476321971</td><td>-56.04144684539624</td><td>0.5340020246395574</td><td>1.4873884916305542</td><td>11205</td><td>0.54247814</td><td>84.7340498409233</td><td>-56.04696471682986</td><td>41</td><td>0.54247814</td><td>41</td><td>220.66742</td></tr>\n",
       "</table>"
      ],
      "text/plain": [
       "<Table length=5>\n",
       "   halo_id    baseDC2/sod_halo_mass     halo_mass      ... cluster_id  richness\n",
       "    int64            float64             float64       ...   int32     float32 \n",
       "------------- --------------------- ------------------ ... ---------- ---------\n",
       " 387810675347     946464561823744.0 1659895028213904.2 ...          8 283.30435\n",
       " 152507764373    1099301174378496.0 1876985964965138.0 ...         18 268.15616\n",
       "1929211529307     632555132944384.0  900082137197611.4 ...         37  259.3693\n",
       "1077508897331     606560044711936.0  963326664865532.5 ...         29  259.0337\n",
       " 901711205323     368588422643712.0  565778905843740.9 ...         41 220.66742"
      ]
     },
     "execution_count": 26,
     "metadata": {},
     "output_type": "execute_result"
    }
   ],
   "source": [
    "matching_2[:5]"
   ]
  },
  {
   "cell_type": "code",
   "execution_count": 37,
   "id": "57cf2ca8-fc56-443d-963e-4b16eb772d57",
   "metadata": {
    "tags": []
   },
   "outputs": [],
   "source": [
    "# matching_2.write(file_path + 'halos/halos_redmapper_matching_2.dat', format='ascii')\n",
    "matching_2 = Table.read(file_path + 'halos/halos_redmapper_matching_2.dat', format='ascii')"
   ]
  },
  {
   "cell_type": "code",
   "execution_count": 43,
   "id": "a3bedbef-ca73-4412-ad35-f057b82a4e30",
   "metadata": {},
   "outputs": [],
   "source": [
    "matching_2.remove_columns(['ra_cl','dec_cl',])\n",
    "matching_2.rename_columns(['redshift_2'],['redshift'])\n",
    "perfect_match2.rename_columns(['redshift_2'],['redshift'])"
   ]
  },
  {
   "cell_type": "code",
   "execution_count": 49,
   "id": "bacd46d6-32e2-42fd-bd08-08458afb6db2",
   "metadata": {
    "tags": []
   },
   "outputs": [
    {
     "name": "stdout",
     "output_type": "stream",
     "text": [
      "<TableColumns names=('halo_id','radius','sigma','DS','baseDC2/sod_halo_mass','baseDC2/sod_halo_radius','redshift','dec','magnification','hostHaloMass','ra','halo_mass','pixel_id')>\n"
     ]
    }
   ],
   "source": [
    "sigma_ds_profile12 = sigma_ds_profile1['halo_id','radius','sigma','DS','baseDC2/sod_halo_mass','redshift','ra','dec']\n",
    "print(sigma_ds_profile1.columns)"
   ]
  },
  {
   "cell_type": "code",
   "execution_count": 56,
   "id": "39d185d2-89ed-428e-9f6d-21e78f5020c5",
   "metadata": {
    "tags": []
   },
   "outputs": [],
   "source": [
    "cluster_halo22 = join(cluster_halo2,sigma_ds_profile12, keys=['halo_id','baseDC2/sod_halo_mass','redshift','ra','dec'],join_type='inner')"
   ]
  },
  {
   "cell_type": "code",
   "execution_count": 11,
   "id": "e75ba757-380c-4549-80b6-670104f0bf6d",
   "metadata": {
    "tags": []
   },
   "outputs": [
    {
     "name": "stdout",
     "output_type": "stream",
     "text": [
      "37798\n"
     ]
    },
    {
     "data": {
      "text/html": [
       "<div>\n",
       "<style scoped>\n",
       "    .dataframe tbody tr th:only-of-type {\n",
       "        vertical-align: middle;\n",
       "    }\n",
       "\n",
       "    .dataframe tbody tr th {\n",
       "        vertical-align: top;\n",
       "    }\n",
       "\n",
       "    .dataframe thead th {\n",
       "        text-align: right;\n",
       "    }\n",
       "</style>\n",
       "<table border=\"1\" class=\"dataframe\">\n",
       "  <thead>\n",
       "    <tr style=\"text-align: right;\">\n",
       "      <th></th>\n",
       "      <th>cluster_id</th>\n",
       "      <th>richness</th>\n",
       "      <th>dec</th>\n",
       "      <th>redshift_1</th>\n",
       "      <th>clusters/z_lambda</th>\n",
       "      <th>clusters/mem_match_id</th>\n",
       "      <th>ra</th>\n",
       "      <th>halo_id</th>\n",
       "      <th>baseDC2/sod_halo_mass</th>\n",
       "      <th>halo_mass</th>\n",
       "      <th>redshift</th>\n",
       "      <th>baseDC2/sod_halo_radius</th>\n",
       "      <th>pixel_id</th>\n",
       "    </tr>\n",
       "  </thead>\n",
       "  <tbody>\n",
       "    <tr>\n",
       "      <th>0</th>\n",
       "      <td>9433</td>\n",
       "      <td>49.796448</td>\n",
       "      <td>-16.994633</td>\n",
       "      <td>0.277185</td>\n",
       "      <td>0.277185</td>\n",
       "      <td>9433</td>\n",
       "      <td>30.689553</td>\n",
       "      <td>7882382</td>\n",
       "      <td>9.793396e+13</td>\n",
       "      <td>2.120835e+14</td>\n",
       "      <td>0.269174</td>\n",
       "      <td>0.877747</td>\n",
       "      <td>7882</td>\n",
       "    </tr>\n",
       "    <tr>\n",
       "      <th>1</th>\n",
       "      <td>7477</td>\n",
       "      <td>45.357254</td>\n",
       "      <td>-23.195630</td>\n",
       "      <td>0.942758</td>\n",
       "      <td>0.942758</td>\n",
       "      <td>7477</td>\n",
       "      <td>38.216131</td>\n",
       "      <td>8526253</td>\n",
       "      <td>4.423530e+14</td>\n",
       "      <td>5.598655e+14</td>\n",
       "      <td>0.946937</td>\n",
       "      <td>1.713573</td>\n",
       "      <td>8526</td>\n",
       "    </tr>\n",
       "    <tr>\n",
       "      <th>2</th>\n",
       "      <td>21789</td>\n",
       "      <td>27.310617</td>\n",
       "      <td>-30.513351</td>\n",
       "      <td>0.965913</td>\n",
       "      <td>0.965913</td>\n",
       "      <td>21789</td>\n",
       "      <td>39.685389</td>\n",
       "      <td>9294247</td>\n",
       "      <td>7.379789e+13</td>\n",
       "      <td>9.823534e+13</td>\n",
       "      <td>0.970221</td>\n",
       "      <td>0.956616</td>\n",
       "      <td>9294</td>\n",
       "    </tr>\n",
       "  </tbody>\n",
       "</table>\n",
       "</div>"
      ],
      "text/plain": [
       "   cluster_id   richness        dec  redshift_1  clusters/z_lambda  \\\n",
       "0        9433  49.796448 -16.994633    0.277185           0.277185   \n",
       "1        7477  45.357254 -23.195630    0.942758           0.942758   \n",
       "2       21789  27.310617 -30.513351    0.965913           0.965913   \n",
       "\n",
       "   clusters/mem_match_id         ra  halo_id  baseDC2/sod_halo_mass  \\\n",
       "0                   9433  30.689553  7882382           9.793396e+13   \n",
       "1                   7477  38.216131  8526253           4.423530e+14   \n",
       "2                  21789  39.685389  9294247           7.379789e+13   \n",
       "\n",
       "      halo_mass  redshift  baseDC2/sod_halo_radius  pixel_id  \n",
       "0  2.120835e+14  0.269174                 0.877747      7882  \n",
       "1  5.598655e+14  0.946937                 1.713573      8526  \n",
       "2  9.823534e+13  0.970221                 0.956616      9294  "
      ]
     },
     "execution_count": 11,
     "metadata": {},
     "output_type": "execute_result"
    }
   ],
   "source": [
    "# cluster_halo22 = cluster_halo22.to_pandas()\n",
    "# cluster_halo22.to_pickle(file_path + 'halos/halos_redmapper_mthd2.csv')\n",
    "halos_redmapper = pd.read_pickle(file_path + 'halos/halos_redmapper_mthd2.csv')\n",
    "print(len(halos_redmapper))\n",
    "halos_redmapper = halos_redmapper.drop(columns=['radius','sigma','DS'])\n",
    "halos_redmapper[:3]"
   ]
  },
  {
   "cell_type": "code",
   "execution_count": 12,
   "id": "ec93c71a-8f93-4f81-a4de-c944610ef01e",
   "metadata": {
    "tags": []
   },
   "outputs": [
    {
     "name": "stdout",
     "output_type": "stream",
     "text": [
      "2152757\n"
     ]
    },
    {
     "data": {
      "text/html": [
       "<div>\n",
       "<style scoped>\n",
       "    .dataframe tbody tr th:only-of-type {\n",
       "        vertical-align: middle;\n",
       "    }\n",
       "\n",
       "    .dataframe tbody tr th {\n",
       "        vertical-align: top;\n",
       "    }\n",
       "\n",
       "    .dataframe thead th {\n",
       "        text-align: right;\n",
       "    }\n",
       "</style>\n",
       "<table border=\"1\" class=\"dataframe\">\n",
       "  <thead>\n",
       "    <tr style=\"text-align: right;\">\n",
       "      <th></th>\n",
       "      <th>halo_id</th>\n",
       "      <th>comoving_dis</th>\n",
       "      <th>Angular_dis</th>\n",
       "      <th>radius</th>\n",
       "      <th>sigma</th>\n",
       "      <th>DS</th>\n",
       "    </tr>\n",
       "  </thead>\n",
       "  <tbody>\n",
       "    <tr>\n",
       "      <th>0</th>\n",
       "      <td>21510048411</td>\n",
       "      <td>578.542239</td>\n",
       "      <td>481.558077</td>\n",
       "      <td>[0.1308730625060924, 0.20814712387717377, 0.33...</td>\n",
       "      <td>[115148363120795.56, 51872210454439.24, 229531...</td>\n",
       "      <td>[-130550254502468.84, -76217790266760.5, -3994...</td>\n",
       "    </tr>\n",
       "    <tr>\n",
       "      <th>1</th>\n",
       "      <td>25010048411</td>\n",
       "      <td>581.180475</td>\n",
       "      <td>483.367013</td>\n",
       "      <td>[0.13261201512396317, 0.20923342305629689, 0.3...</td>\n",
       "      <td>[7445362739885.1875, 8543016543686.46, -375534...</td>\n",
       "      <td>[-51159678940917.43, -21245333215964.383, -223...</td>\n",
       "    </tr>\n",
       "    <tr>\n",
       "      <th>2</th>\n",
       "      <td>25410048411</td>\n",
       "      <td>578.216572</td>\n",
       "      <td>481.334566</td>\n",
       "      <td>[0.13437702148667455, 0.21206787125180884, 0.3...</td>\n",
       "      <td>[98287762786790.84, 51371879042919.66, -144157...</td>\n",
       "      <td>[-171453712604657.56, -101776907593780.67, -73...</td>\n",
       "    </tr>\n",
       "  </tbody>\n",
       "</table>\n",
       "</div>"
      ],
      "text/plain": [
       "       halo_id  comoving_dis  Angular_dis  \\\n",
       "0  21510048411    578.542239   481.558077   \n",
       "1  25010048411    581.180475   483.367013   \n",
       "2  25410048411    578.216572   481.334566   \n",
       "\n",
       "                                              radius  \\\n",
       "0  [0.1308730625060924, 0.20814712387717377, 0.33...   \n",
       "1  [0.13261201512396317, 0.20923342305629689, 0.3...   \n",
       "2  [0.13437702148667455, 0.21206787125180884, 0.3...   \n",
       "\n",
       "                                               sigma  \\\n",
       "0  [115148363120795.56, 51872210454439.24, 229531...   \n",
       "1  [7445362739885.1875, 8543016543686.46, -375534...   \n",
       "2  [98287762786790.84, 51371879042919.66, -144157...   \n",
       "\n",
       "                                                  DS  \n",
       "0  [-130550254502468.84, -76217790266760.5, -3994...  \n",
       "1  [-51159678940917.43, -21245333215964.383, -223...  \n",
       "2  [-171453712604657.56, -101776907593780.67, -73...  "
      ]
     },
     "execution_count": 12,
     "metadata": {},
     "output_type": "execute_result"
    }
   ],
   "source": [
    "## New computed DS and S which has h in the distances.\n",
    "sigma_ds_profile = pd.read_pickle(file_path + 'WL-Signal/skysim-full-DS_S-2152757.csv')\n",
    "print(len(sigma_ds_profile))\n",
    "sigma_ds_profile = sigma_ds_profile[['halo_id', 'comoving_dis','Angular_dis','radius','sigma','DS']]\n",
    "sigma_ds_profile[:3]"
   ]
  },
  {
   "cell_type": "code",
   "execution_count": 13,
   "id": "52a60b27-8d8b-4bac-806e-c3d7912d9ecd",
   "metadata": {
    "tags": []
   },
   "outputs": [
    {
     "name": "stdout",
     "output_type": "stream",
     "text": [
      "37798\n"
     ]
    },
    {
     "data": {
      "text/html": [
       "<div>\n",
       "<style scoped>\n",
       "    .dataframe tbody tr th:only-of-type {\n",
       "        vertical-align: middle;\n",
       "    }\n",
       "\n",
       "    .dataframe tbody tr th {\n",
       "        vertical-align: top;\n",
       "    }\n",
       "\n",
       "    .dataframe thead th {\n",
       "        text-align: right;\n",
       "    }\n",
       "</style>\n",
       "<table border=\"1\" class=\"dataframe\">\n",
       "  <thead>\n",
       "    <tr style=\"text-align: right;\">\n",
       "      <th></th>\n",
       "      <th>cluster_id</th>\n",
       "      <th>richness</th>\n",
       "      <th>dec</th>\n",
       "      <th>redshift_1</th>\n",
       "      <th>clusters/z_lambda</th>\n",
       "      <th>clusters/mem_match_id</th>\n",
       "      <th>ra</th>\n",
       "      <th>halo_id</th>\n",
       "      <th>baseDC2/sod_halo_mass</th>\n",
       "      <th>halo_mass</th>\n",
       "      <th>redshift</th>\n",
       "      <th>baseDC2/sod_halo_radius</th>\n",
       "      <th>pixel_id</th>\n",
       "      <th>comoving_dis</th>\n",
       "      <th>Angular_dis</th>\n",
       "      <th>radius</th>\n",
       "      <th>sigma</th>\n",
       "      <th>DS</th>\n",
       "    </tr>\n",
       "  </thead>\n",
       "  <tbody>\n",
       "    <tr>\n",
       "      <th>0</th>\n",
       "      <td>9433</td>\n",
       "      <td>49.796448</td>\n",
       "      <td>-16.994633</td>\n",
       "      <td>0.277185</td>\n",
       "      <td>0.277185</td>\n",
       "      <td>9433</td>\n",
       "      <td>30.689553</td>\n",
       "      <td>7882382</td>\n",
       "      <td>9.793396e+13</td>\n",
       "      <td>2.120835e+14</td>\n",
       "      <td>0.269174</td>\n",
       "      <td>0.877747</td>\n",
       "      <td>7882</td>\n",
       "      <td>761.430165</td>\n",
       "      <td>599.941336</td>\n",
       "      <td>[0.13077678865824494, 0.21217091891370196, 0.3...</td>\n",
       "      <td>[110727389393014.08, 58813523100774.29, 102856...</td>\n",
       "      <td>[-8832006208314.781, -23267165687616.883, -127...</td>\n",
       "    </tr>\n",
       "    <tr>\n",
       "      <th>1</th>\n",
       "      <td>7477</td>\n",
       "      <td>45.357254</td>\n",
       "      <td>-23.195630</td>\n",
       "      <td>0.942758</td>\n",
       "      <td>0.942758</td>\n",
       "      <td>7477</td>\n",
       "      <td>38.216131</td>\n",
       "      <td>8526253</td>\n",
       "      <td>4.423530e+14</td>\n",
       "      <td>5.598655e+14</td>\n",
       "      <td>0.946937</td>\n",
       "      <td>1.713573</td>\n",
       "      <td>8526</td>\n",
       "      <td>2267.503546</td>\n",
       "      <td>1164.651511</td>\n",
       "      <td>[0.13646283273225385, 0.19977708240986783, 0.3...</td>\n",
       "      <td>[2249574075879.025, -3635266351607.388, 282590...</td>\n",
       "      <td>[17803158959296.477, 52395860504862.1, 8447713...</td>\n",
       "    </tr>\n",
       "    <tr>\n",
       "      <th>2</th>\n",
       "      <td>21789</td>\n",
       "      <td>27.310617</td>\n",
       "      <td>-30.513351</td>\n",
       "      <td>0.965913</td>\n",
       "      <td>0.965913</td>\n",
       "      <td>21789</td>\n",
       "      <td>39.685389</td>\n",
       "      <td>9294247</td>\n",
       "      <td>7.379789e+13</td>\n",
       "      <td>9.823534e+13</td>\n",
       "      <td>0.970221</td>\n",
       "      <td>0.956616</td>\n",
       "      <td>9294</td>\n",
       "      <td>2309.790961</td>\n",
       "      <td>1172.351381</td>\n",
       "      <td>[0.14539961083596725, 0.19753496022432523, 0.3...</td>\n",
       "      <td>[26065599372806.51, 47601960575787.414, -22009...</td>\n",
       "      <td>[53660393591007.734, 16341062563337.203, -1195...</td>\n",
       "    </tr>\n",
       "  </tbody>\n",
       "</table>\n",
       "</div>"
      ],
      "text/plain": [
       "   cluster_id   richness        dec  redshift_1  clusters/z_lambda  \\\n",
       "0        9433  49.796448 -16.994633    0.277185           0.277185   \n",
       "1        7477  45.357254 -23.195630    0.942758           0.942758   \n",
       "2       21789  27.310617 -30.513351    0.965913           0.965913   \n",
       "\n",
       "   clusters/mem_match_id         ra  halo_id  baseDC2/sod_halo_mass  \\\n",
       "0                   9433  30.689553  7882382           9.793396e+13   \n",
       "1                   7477  38.216131  8526253           4.423530e+14   \n",
       "2                  21789  39.685389  9294247           7.379789e+13   \n",
       "\n",
       "      halo_mass  redshift  baseDC2/sod_halo_radius  pixel_id  comoving_dis  \\\n",
       "0  2.120835e+14  0.269174                 0.877747      7882    761.430165   \n",
       "1  5.598655e+14  0.946937                 1.713573      8526   2267.503546   \n",
       "2  9.823534e+13  0.970221                 0.956616      9294   2309.790961   \n",
       "\n",
       "   Angular_dis                                             radius  \\\n",
       "0   599.941336  [0.13077678865824494, 0.21217091891370196, 0.3...   \n",
       "1  1164.651511  [0.13646283273225385, 0.19977708240986783, 0.3...   \n",
       "2  1172.351381  [0.14539961083596725, 0.19753496022432523, 0.3...   \n",
       "\n",
       "                                               sigma  \\\n",
       "0  [110727389393014.08, 58813523100774.29, 102856...   \n",
       "1  [2249574075879.025, -3635266351607.388, 282590...   \n",
       "2  [26065599372806.51, 47601960575787.414, -22009...   \n",
       "\n",
       "                                                  DS  \n",
       "0  [-8832006208314.781, -23267165687616.883, -127...  \n",
       "1  [17803158959296.477, 52395860504862.1, 8447713...  \n",
       "2  [53660393591007.734, 16341062563337.203, -1195...  "
      ]
     },
     "execution_count": 13,
     "metadata": {},
     "output_type": "execute_result"
    }
   ],
   "source": [
    "merged_cl_halos = halos_redmapper.merge(sigma_ds_profile, on='halo_id', how='left')\n",
    "print(len(merged_cl_halos))\n",
    "merged_cl_halos.reset_index(drop=True)\n",
    "merged_cl_halos[:3]"
   ]
  },
  {
   "cell_type": "code",
   "execution_count": 16,
   "id": "f2443caf-b121-40c3-8aaa-3278c3408da4",
   "metadata": {
    "tags": []
   },
   "outputs": [],
   "source": [
    "# merged_cl_halos.to_pickle(file_path + 'halos/halos_redmapper_withh_mthd2.csv')"
   ]
  },
  {
   "cell_type": "code",
   "execution_count": null,
   "id": "87abf25d-521f-42b1-927d-ff913b9f5c75",
   "metadata": {},
   "outputs": [],
   "source": []
  },
  {
   "cell_type": "code",
   "execution_count": null,
   "id": "b6688df3-d1fb-42b3-ae67-3230dbb4c8ee",
   "metadata": {},
   "outputs": [],
   "source": []
  }
 ],
 "metadata": {
  "kernelspec": {
   "display_name": "desc-python",
   "language": "python",
   "name": "desc-python"
  },
  "language_info": {
   "codemirror_mode": {
    "name": "ipython",
    "version": 3
   },
   "file_extension": ".py",
   "mimetype": "text/x-python",
   "name": "python",
   "nbconvert_exporter": "python",
   "pygments_lexer": "ipython3",
   "version": "3.8.8"
  }
 },
 "nbformat": 4,
 "nbformat_minor": 5
}
